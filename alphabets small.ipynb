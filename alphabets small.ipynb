{
 "cells": [
  {
   "cell_type": "code",
   "execution_count": 5,
   "id": "93c3f86f",
   "metadata": {},
   "outputs": [
    {
     "name": "stdout",
     "output_type": "stream",
     "text": [
      " * * *\n",
      "*     *\n",
      "*     *\n",
      " * * * **\n"
     ]
    }
   ],
   "source": [
    "x=1\n",
    "while x<=4:\n",
    "    if x==1 :\n",
    "        print(\" * * *\")\n",
    "    elif x==2 or x==3:\n",
    "        print(\"*     *\")\n",
    "    else :\n",
    "        print(\" * * * **\")\n",
    "    x=x+1  "
   ]
  },
  {
   "cell_type": "code",
   "execution_count": 8,
   "id": "4ad95705",
   "metadata": {},
   "outputs": [
    {
     "name": "stdout",
     "output_type": "stream",
     "text": [
      "* \n",
      "* \n",
      "* \n",
      "* * *\n",
      "*    *\n",
      "* * *\n"
     ]
    }
   ],
   "source": [
    "x=1\n",
    "while x<=6:\n",
    "    if x==1 or x==2 or x==3:\n",
    "        print(\"* \")\n",
    "    elif x==4 or x==6:\n",
    "        print(\"* * *\")\n",
    "    else :\n",
    "        print(\"*    *\")\n",
    "    x=x+1  "
   ]
  },
  {
   "cell_type": "code",
   "execution_count": 9,
   "id": "c6e419aa",
   "metadata": {},
   "outputs": [
    {
     "name": "stdout",
     "output_type": "stream",
     "text": [
      " * * *\n",
      "*     \n",
      "*     \n",
      " * * * \n"
     ]
    }
   ],
   "source": [
    "x=1\n",
    "while x<=4:\n",
    "    if x==1 :\n",
    "        print(\" * * *\")\n",
    "    elif x==2 or x==3:\n",
    "        print(\"*     \")\n",
    "    else :\n",
    "        print(\" * * * \")\n",
    "    x=x+1  "
   ]
  },
  {
   "cell_type": "code",
   "execution_count": 12,
   "id": "bba61c15",
   "metadata": {},
   "outputs": [
    {
     "name": "stdout",
     "output_type": "stream",
     "text": [
      "     *\n",
      "     *\n",
      " * * *\n",
      "*    *\n",
      "*    *\n",
      " * * * \n"
     ]
    }
   ],
   "source": [
    "x=1\n",
    "while x<=6:\n",
    "    if x==1 or x==2:\n",
    "        print(\"     *\")\n",
    "    elif x==3 :\n",
    "        print(\" * * *\")\n",
    "    elif x==4 or x==5:\n",
    "        print(\"*    *\")\n",
    "    else :\n",
    "        print(\" * * * \")\n",
    "    x=x+1  "
   ]
  },
  {
   "cell_type": "code",
   "execution_count": 26,
   "id": "b709f1ec",
   "metadata": {},
   "outputs": [
    {
     "name": "stdout",
     "output_type": "stream",
     "text": [
      " * * *\n",
      "*     *\n",
      "*  * * \n",
      "*     \n",
      " * * * \n"
     ]
    }
   ],
   "source": [
    "x=1\n",
    "while x<=5:\n",
    "    if x==1 :\n",
    "        print(\" * * *\")\n",
    "    elif x==3:\n",
    "        print(\"*  * * \")\n",
    "    elif x==2:\n",
    "        print(\"*     *\")\n",
    "    elif x==4:\n",
    "        print(\"*     \")\n",
    "    else :\n",
    "        print(\" * * * \")\n",
    "    x=x+1  "
   ]
  },
  {
   "cell_type": "code",
   "execution_count": 57,
   "id": "22182207",
   "metadata": {},
   "outputs": [
    {
     "name": "stdout",
     "output_type": "stream",
     "text": [
      "  + + +\n",
      "  +   +\n",
      "  + \n",
      "+ + + +\n",
      "  + \n",
      "  + \n"
     ]
    }
   ],
   "source": [
    "x=1\n",
    "while x<=6:\n",
    "    if x==1:\n",
    "        print( \"  + + +\")\n",
    "    elif x==2:\n",
    "        print(\"  +   +\")\n",
    "    elif x==4:\n",
    "        print(\"+ + + +\")\n",
    "            \n",
    "    elif x==3 or x==5 or x==6:\n",
    "        print(\"  + \")\n",
    "    x=x+1    "
   ]
  },
  {
   "cell_type": "code",
   "execution_count": 44,
   "id": "8aa26cbf",
   "metadata": {},
   "outputs": [
    {
     "name": "stdout",
     "output_type": "stream",
     "text": [
      " * * *\n",
      "*    *\n",
      "*    *\n",
      " * * * \n",
      "     *\n",
      "     *\n",
      " * * *\n"
     ]
    }
   ],
   "source": [
    "x=1\n",
    "while x<=7:\n",
    "    if x==1 :\n",
    "        print(\" * * *\")\n",
    "    elif x==2 or x==3:\n",
    "        print(\"*    *\")\n",
    "    elif x==4 :\n",
    "        print(\" * * * \")\n",
    "    elif x==5 or x== 6:\n",
    "        print(\"     *\")\n",
    "    elif x==7:\n",
    "        print(\" * * *\")\n",
    "    x=x+1  "
   ]
  },
  {
   "cell_type": "code",
   "execution_count": 45,
   "id": "d0f14ed2",
   "metadata": {},
   "outputs": [
    {
     "name": "stdout",
     "output_type": "stream",
     "text": [
      "* \n",
      "* \n",
      "* \n",
      "* * *\n",
      "*    *\n",
      "*    *\n"
     ]
    }
   ],
   "source": [
    "x=1\n",
    "while x<=6:\n",
    "    if x==1 or x==2 or x==3:\n",
    "        print(\"* \")\n",
    "    elif x==4 :\n",
    "        print(\"* * *\")\n",
    "    else :\n",
    "        print(\"*    *\")\n",
    "    x=x+1  "
   ]
  },
  {
   "cell_type": "code",
   "execution_count": 49,
   "id": "08c478f3",
   "metadata": {},
   "outputs": [
    {
     "name": "stdout",
     "output_type": "stream",
     "text": [
      "@\n",
      " \n",
      ":\n",
      ":\n",
      ":\n"
     ]
    }
   ],
   "source": [
    "x=1\n",
    "while x<=5:\n",
    "    if x==1:\n",
    "        print(\"@\")\n",
    "    elif x==2 :\n",
    "        print(\" \")\n",
    "    else :\n",
    "        print(\":\")\n",
    "    x=x+1  "
   ]
  },
  {
   "cell_type": "code",
   "execution_count": 54,
   "id": "8077ebcd",
   "metadata": {},
   "outputs": [
    {
     "name": "stdout",
     "output_type": "stream",
     "text": [
      "    @\n",
      "      \n",
      "    +\n",
      "    +\n",
      "    +\n",
      "  + +\n"
     ]
    }
   ],
   "source": [
    "x=1\n",
    "while x<=6:\n",
    "    if x==1:\n",
    "        print(\"    @\")\n",
    "    elif x==2 :\n",
    "        print(\"      \")\n",
    "    elif x==3 or x==4 or x==5:\n",
    "        print(\"    +\")\n",
    "    else :\n",
    "        print(\"  + +\")\n",
    "    x=x+1  "
   ]
  },
  {
   "cell_type": "code",
   "execution_count": 55,
   "id": "417bcc7d",
   "metadata": {},
   "outputs": [
    {
     "name": "stdout",
     "output_type": "stream",
     "text": [
      "*    *\n",
      "*  *\n",
      "* *\n",
      "*  *\n",
      "*    *\n"
     ]
    }
   ],
   "source": [
    "x=1\n",
    "while x<=5:\n",
    "    if x==1 or x==5:\n",
    "        print(\"*    *\")\n",
    "    elif x==2  or x==4:\n",
    "        print(\"*  *\")\n",
    "    else : \n",
    "        print(\"* *\")\n",
    "    x=x+1  "
   ]
  },
  {
   "cell_type": "code",
   "execution_count": 69,
   "id": "4c6e10b7",
   "metadata": {},
   "outputs": [
    {
     "name": "stdout",
     "output_type": "stream",
     "text": [
      "   *\n",
      "   *\n",
      "   *\n",
      "   *\n"
     ]
    }
   ],
   "source": [
    "x=1\n",
    "while x<=5:\n",
    "    if x==1 or x==2 or x==3 or x==4:\n",
    "        print(\"   *\")\n",
    "    x=x+1  "
   ]
  },
  {
   "cell_type": "code",
   "execution_count": 75,
   "id": "059b04e1",
   "metadata": {},
   "outputs": [
    {
     "name": "stdout",
     "output_type": "stream",
     "text": [
      "  *  *     *\n",
      "    *  * *  *\n",
      "    *   *   *\n",
      "    *       *\n",
      "    *       *\n"
     ]
    }
   ],
   "source": [
    "x=1\n",
    "while x<=5:\n",
    "    if x==1 :\n",
    "        print(\"  *  *     *\")\n",
    "    elif x==3:\n",
    "        print(\"    *   *   *\")\n",
    "    elif x==2 : \n",
    "        print(\"    *  * *  *\")\n",
    "    else:\n",
    "        print(\"    *       *\")\n",
    "    x=x+1  "
   ]
  },
  {
   "cell_type": "code",
   "execution_count": 113,
   "id": "8532bae5",
   "metadata": {},
   "outputs": [
    {
     "name": "stdout",
     "output_type": "stream",
     "text": [
      "   *     \n",
      "    * * * * \n",
      "    *      *   \n",
      "    *      *\n",
      "    *      *\n"
     ]
    }
   ],
   "source": [
    "x=1\n",
    "while x<=5:\n",
    "    if x==1 :\n",
    "        print(\"   *     \")\n",
    "    elif x==3:\n",
    "        print(\"    *      *   \")\n",
    "    elif x==2 : \n",
    "        print(\"    * * * * \")\n",
    "    else:\n",
    "        print(\"    *      *\")\n",
    "    x=x+1  "
   ]
  },
  {
   "cell_type": "code",
   "execution_count": 83,
   "id": "e027fe59",
   "metadata": {},
   "outputs": [
    {
     "name": "stdout",
     "output_type": "stream",
     "text": [
      " ****\n",
      "*    *\n",
      "*    *\n",
      "*    *\n",
      " ****\n"
     ]
    }
   ],
   "source": [
    "x=1\n",
    "while x<=5:\n",
    "    if x==1 or x==5:\n",
    "        print(\" ****\")\n",
    "    elif x==2 or x==3 or x==4:\n",
    "        print(\"*    *\")\n",
    "    x=x+1  "
   ]
  },
  {
   "cell_type": "code",
   "execution_count": 86,
   "id": "2448f776",
   "metadata": {},
   "outputs": [
    {
     "name": "stdout",
     "output_type": "stream",
     "text": [
      "+ + +\n",
      "+    +\n",
      "+ + +\n",
      "+\n",
      "+\n"
     ]
    }
   ],
   "source": [
    "x=1\n",
    "while x<=5:\n",
    "    if x==1  or x==3:\n",
    "        print(\"+ + +\")\n",
    "    elif x==4 or x==5:\n",
    "        print(\"+\")\n",
    "    else:\n",
    "        print(\"+    +\")\n",
    "    x=x+1    "
   ]
  },
  {
   "cell_type": "code",
   "execution_count": 89,
   "id": "b0aa66b2",
   "metadata": {},
   "outputs": [
    {
     "name": "stdout",
     "output_type": "stream",
     "text": [
      " * * *\n",
      "*    *\n",
      "*    *\n",
      " * * *    \n",
      "     * *\n",
      "     * \n"
     ]
    }
   ],
   "source": [
    "x=1\n",
    "while x<=6:\n",
    "    if x==1 :\n",
    "        print(\" * * *\")\n",
    "    elif x==2 or x==3:\n",
    "        print(\"*    *\")\n",
    "    elif x==4 :\n",
    "        print(\" * * *    \")\n",
    "    elif x==5 :\n",
    "        print(\"     * *\")\n",
    "    elif  x== 6:\n",
    "        print(\"     * \")\n",
    "    x=x+1  "
   ]
  },
  {
   "cell_type": "code",
   "execution_count": 119,
   "id": "1e724e88",
   "metadata": {},
   "outputs": [
    {
     "name": "stdout",
     "output_type": "stream",
     "text": [
      "+       +\n",
      " +     +\n",
      "    +\n",
      " +     +\n",
      "   + +   \n"
     ]
    }
   ],
   "source": [
    "x=1\n",
    "while x<=5:\n",
    "    if  x==5 :\n",
    "        print(\"   + +   \")\n",
    "    elif x==1:\n",
    "        print(\"+       +\")\n",
    "    elif x==2 or x==4:\n",
    "        print(\" +     +\")\n",
    "    else:\n",
    "        print(\"    +\")\n",
    "    x=x+1    "
   ]
  },
  {
   "cell_type": "code",
   "execution_count": 93,
   "id": "de477f84",
   "metadata": {},
   "outputs": [
    {
     "name": "stdout",
     "output_type": "stream",
     "text": [
      " +++++\n",
      "+\n",
      " +++++\n",
      "      +\n",
      " +++++\n"
     ]
    }
   ],
   "source": [
    "x=1\n",
    "while x<=5:\n",
    "    if x==1 or x==5 or x==3:\n",
    "        print(\" +++++\")\n",
    "    elif x==2:\n",
    "        print(\"+\")\n",
    "    else:\n",
    "        print(\"      +\")\n",
    "    x=x+1    "
   ]
  },
  {
   "cell_type": "code",
   "execution_count": 96,
   "id": "45dcf3b8",
   "metadata": {},
   "outputs": [
    {
     "name": "stdout",
     "output_type": "stream",
     "text": [
      "  +\n",
      "  +\n",
      "+ + +\n",
      "  +\n",
      "  +++\n"
     ]
    }
   ],
   "source": [
    "x=1\n",
    "while x<=5:\n",
    "    if x==3:\n",
    "        print(\"+ + +\")\n",
    "    elif x==5:\n",
    "        print(\"  +++\")\n",
    "    else :\n",
    "        print(\"  +\")\n",
    "    x=x+1  "
   ]
  },
  {
   "cell_type": "code",
   "execution_count": 105,
   "id": "394c51f4",
   "metadata": {},
   "outputs": [
    {
     "name": "stdout",
     "output_type": "stream",
     "text": [
      " +   +\n",
      " +   +\n",
      " +   +\n",
      " +   +\n",
      " + + + ++ \n"
     ]
    }
   ],
   "source": [
    "x=1\n",
    "while x<=5:\n",
    "    if x==1 or  x==2 or x==3 or x==4:\n",
    "        print(\" +   +\")\n",
    "    elif x==5:\n",
    "        print(\" + + + ++ \")\n",
    "    x=x+1    "
   ]
  },
  {
   "cell_type": "code",
   "execution_count": 106,
   "id": "ec5adb9d",
   "metadata": {},
   "outputs": [
    {
     "name": "stdout",
     "output_type": "stream",
     "text": [
      "*   *\n",
      " * *\n",
      "  *\n"
     ]
    }
   ],
   "source": [
    "x=1\n",
    "while x<=3:\n",
    "    if x==1:\n",
    "        print(\"*   *\")\n",
    "    elif x==2:\n",
    "        print(\" * *\")\n",
    "    else:\n",
    "        print(\"  *\")\n",
    "    x=x+1    "
   ]
  },
  {
   "cell_type": "code",
   "execution_count": 107,
   "id": "a986ceea",
   "metadata": {},
   "outputs": [
    {
     "name": "stdout",
     "output_type": "stream",
     "text": [
      "*       *\n",
      " *  *  *\n",
      "  *   *\n"
     ]
    }
   ],
   "source": [
    "x=1\n",
    "while x<=3:\n",
    "    if x==1:\n",
    "        print(\"*       *\")\n",
    "    elif x==2:\n",
    "        print(\" *  *  *\")\n",
    "    else:\n",
    "        print(\"  *   *\")\n",
    "    x=x+1    "
   ]
  },
  {
   "cell_type": "code",
   "execution_count": 108,
   "id": "5f237508",
   "metadata": {},
   "outputs": [
    {
     "name": "stdout",
     "output_type": "stream",
     "text": [
      "+       +\n",
      "  +   + \n",
      "    +  \n",
      "  +   + \n",
      "+       +\n"
     ]
    }
   ],
   "source": [
    "x=1\n",
    "while x<=5:\n",
    "    if x==1 or x==5:\n",
    "        print(\"+       +\")\n",
    "    elif x==2 or x==4 :\n",
    "        print(\"  +   + \")\n",
    "    else :\n",
    "        print(\"    +  \")\n",
    "    x=x+1"
   ]
  },
  {
   "cell_type": "code",
   "execution_count": 111,
   "id": "3d85efd1",
   "metadata": {},
   "outputs": [
    {
     "name": "stdout",
     "output_type": "stream",
     "text": [
      "*    *\n",
      "*    *\n",
      "*    *\n",
      " * * * \n",
      "     *\n",
      "     *\n",
      " * * *\n"
     ]
    }
   ],
   "source": [
    "x=1\n",
    "while x<=7:\n",
    "    if x==1 :\n",
    "        print(\"*    *\")\n",
    "    elif x==2 or x==3:\n",
    "        print(\"*    *\")\n",
    "    elif x==4 :\n",
    "        print(\" * * * \")\n",
    "    elif x==5 or x== 6:\n",
    "        print(\"     *\")\n",
    "    elif x==7:\n",
    "        print(\" * * *\")\n",
    "    x=x+1  "
   ]
  },
  {
   "cell_type": "code",
   "execution_count": 109,
   "id": "d0d1e214",
   "metadata": {},
   "outputs": [
    {
     "name": "stdout",
     "output_type": "stream",
     "text": [
      "+++++\n",
      "   * \n",
      " *  \n",
      "+++++\n"
     ]
    }
   ],
   "source": [
    "x=1\n",
    "while x<=5:\n",
    "    if x==1 or x==5:\n",
    "        print(\"+++++\")\n",
    "    elif x==2:\n",
    "        print(\"   * \")\n",
    "    elif x==3:\n",
    "        print(\" *  \")\n",
    "    x=x+1"
   ]
  },
  {
   "cell_type": "code",
   "execution_count": null,
   "id": "7171cc67",
   "metadata": {},
   "outputs": [],
   "source": []
  }
 ],
 "metadata": {
  "kernelspec": {
   "display_name": "Python 3 (ipykernel)",
   "language": "python",
   "name": "python3"
  },
  "language_info": {
   "codemirror_mode": {
    "name": "ipython",
    "version": 3
   },
   "file_extension": ".py",
   "mimetype": "text/x-python",
   "name": "python",
   "nbconvert_exporter": "python",
   "pygments_lexer": "ipython3",
   "version": "3.11.3"
  }
 },
 "nbformat": 4,
 "nbformat_minor": 5
}
