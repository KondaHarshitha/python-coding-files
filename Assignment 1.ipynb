{
 "cells": [
  {
   "cell_type": "code",
   "execution_count": 1,
   "id": "6059a655",
   "metadata": {},
   "outputs": [],
   "source": [
    "# 1.convert a string to a lowercase\n"
   ]
  },
  {
   "cell_type": "code",
   "execution_count": 3,
   "id": "c6dd9093",
   "metadata": {},
   "outputs": [
    {
     "data": {
      "text/plain": [
       "'harshitha'"
      ]
     },
     "execution_count": 3,
     "metadata": {},
     "output_type": "execute_result"
    }
   ],
   "source": [
    "x=\"HARSHITHA\" \n",
    "x.lower()"
   ]
  },
  {
   "cell_type": "code",
   "execution_count": 4,
   "id": "1ad3e247",
   "metadata": {},
   "outputs": [],
   "source": [
    "#2. Python program to convert only odd indexed charecters to lowercase\n"
   ]
  },
  {
   "cell_type": "code",
   "execution_count": 12,
   "id": "89f89613",
   "metadata": {},
   "outputs": [
    {
     "data": {
      "text/plain": [
       "'PyThOn'"
      ]
     },
     "execution_count": 12,
     "metadata": {},
     "output_type": "execute_result"
    }
   ],
   "source": [
    "y=\"PYTHON\"\n",
    "y[0]+y[1].lower()+y[2]+y[3].lower()+y[4]+y[5].lower()"
   ]
  },
  {
   "cell_type": "code",
   "execution_count": 7,
   "id": "1b6af00a",
   "metadata": {},
   "outputs": [],
   "source": [
    "# 3.Python program to convert only even indexed charecters to lowercase\n"
   ]
  },
  {
   "cell_type": "code",
   "execution_count": 13,
   "id": "19965bde",
   "metadata": {},
   "outputs": [
    {
     "data": {
      "text/plain": [
       "'pYtHoN'"
      ]
     },
     "execution_count": 13,
     "metadata": {},
     "output_type": "execute_result"
    }
   ],
   "source": [
    "y=\"PYTHON\"\n",
    "y[0].lower()+y[1]+y[2].lower()+y[3]+y[4].lower()+y[5]"
   ]
  },
  {
   "cell_type": "code",
   "execution_count": 14,
   "id": "710743a8",
   "metadata": {},
   "outputs": [],
   "source": [
    "# 4. python program to convert only odd indexed characters to upper case\n"
   ]
  },
  {
   "cell_type": "code",
   "execution_count": 15,
   "id": "611c69a7",
   "metadata": {},
   "outputs": [
    {
     "data": {
      "text/plain": [
       "'pYtHoN'"
      ]
     },
     "execution_count": 15,
     "metadata": {},
     "output_type": "execute_result"
    }
   ],
   "source": [
    "p=\"python\"\n",
    "p[0]+p[1].upper()+p[2]+p[3].upper()+p[4]+p[5].upper()"
   ]
  },
  {
   "cell_type": "code",
   "execution_count": 16,
   "id": "831d163c",
   "metadata": {},
   "outputs": [],
   "source": [
    "# 5.python program to convert only even indexed characters to upper case\n"
   ]
  },
  {
   "cell_type": "code",
   "execution_count": 18,
   "id": "76f03be9",
   "metadata": {},
   "outputs": [
    {
     "data": {
      "text/plain": [
       "'PyThOn'"
      ]
     },
     "execution_count": 18,
     "metadata": {},
     "output_type": "execute_result"
    }
   ],
   "source": [
    "y=\"python\"\n",
    "y[0].upper()+y[1]+y[2].upper()+y[3]+y[4].upper()+y[5]"
   ]
  },
  {
   "cell_type": "code",
   "execution_count": 19,
   "id": "e06fda30",
   "metadata": {},
   "outputs": [],
   "source": [
    "# 6.by using this variable create a variable named bio-data where you will use all this variable\n"
   ]
  },
  {
   "cell_type": "code",
   "execution_count": 21,
   "id": "1bcbbe85",
   "metadata": {},
   "outputs": [],
   "source": [
    "name=\"Harshi\"\n",
    "age=\"21\"\n",
    "sex=\"female\"\n",
    "phonenumber=\"6732768475\"\n",
    "fathername=\"sudheer\"\n",
    "mothername=\"samrajyam\""
   ]
  },
  {
   "cell_type": "code",
   "execution_count": 25,
   "id": "aa04f0a8",
   "metadata": {},
   "outputs": [
    {
     "data": {
      "text/plain": [
       "'My name is Harshi,My age is 21,My sex is female,My phone number is 6732768475,My father name is sudheer,My mother name is samrajyam'"
      ]
     },
     "execution_count": 25,
     "metadata": {},
     "output_type": "execute_result"
    }
   ],
   "source": [
    "\"My name is {},My age is {},My sex is {},My phone number is {},My father name is {},My mother name is {}\".format(name,age,sex,phonenumber,fathername,mothername)"
   ]
  },
  {
   "cell_type": "code",
   "execution_count": 27,
   "id": "49d337da",
   "metadata": {},
   "outputs": [
    {
     "data": {
      "text/plain": [
       "6"
      ]
     },
     "execution_count": 27,
     "metadata": {},
     "output_type": "execute_result"
    }
   ],
   "source": [
    "# 7.program to count how many times @ occured\n",
    "x=\"h@rsh@th@@ns@th@\"\n",
    "x.count(\"@\")"
   ]
  },
  {
   "cell_type": "code",
   "execution_count": 5,
   "id": "503d1129",
   "metadata": {},
   "outputs": [
    {
     "data": {
      "text/plain": [
       "('name1', 'name2', ',name3')"
      ]
     },
     "execution_count": 5,
     "metadata": {},
     "output_type": "execute_result"
    }
   ],
   "source": [
    "# 8. program to get only names from the string \n",
    "n=\"name1.@gmail.com,name2.@gmail.com,name3.@gmail.com\"\n",
    "n[0:5],n[17:22],n[33:39]\n"
   ]
  },
  {
   "cell_type": "code",
   "execution_count": 32,
   "id": "dfc47115",
   "metadata": {},
   "outputs": [
    {
     "data": {
      "text/plain": [
       "'mei'"
      ]
     },
     "execution_count": 32,
     "metadata": {},
     "output_type": "execute_result"
    }
   ],
   "source": [
    "#9. Given a string of odd length greater that 9, return a new string made of the middle three characters of a given String\n",
    "x=\"mynameissan\"\n",
    "x[4:7]"
   ]
  },
  {
   "cell_type": "code",
   "execution_count": 2,
   "id": "c95a22df",
   "metadata": {},
   "outputs": [
    {
     "data": {
      "text/plain": [
       "'msayn'"
      ]
     },
     "execution_count": 2,
     "metadata": {},
     "output_type": "execute_result"
    }
   ],
   "source": [
    "# 10. python program to insert a 2 string in the middle of 1 string\n",
    "m=\"myn\"\n",
    "n=\"sa\"\n",
    "m[0:1]+n+m[1:4]"
   ]
  },
  {
   "cell_type": "code",
   "execution_count": 3,
   "id": "f8b33fc5",
   "metadata": {},
   "outputs": [
    {
     "data": {
      "text/plain": [
       "'bcdfghjklmnpqrstvwxyz'"
      ]
     },
     "execution_count": 3,
     "metadata": {},
     "output_type": "execute_result"
    }
   ],
   "source": [
    "# 11. program to remove vowels from the entire alphabet\n",
    "a=\"abcdefghijklmnopqrstuvwxyz\"\n",
    "a.replace(\"a\",\"\").replace(\"e\",\"\").replace(\"i\",\"\").replace(\"o\",\"\").replace(\"u\",\"\")"
   ]
  },
  {
   "cell_type": "code",
   "execution_count": null,
   "id": "bfcbeff1",
   "metadata": {},
   "outputs": [],
   "source": []
  }
 ],
 "metadata": {
  "kernelspec": {
   "display_name": "Python 3 (ipykernel)",
   "language": "python",
   "name": "python3"
  },
  "language_info": {
   "codemirror_mode": {
    "name": "ipython",
    "version": 3
   },
   "file_extension": ".py",
   "mimetype": "text/x-python",
   "name": "python",
   "nbconvert_exporter": "python",
   "pygments_lexer": "ipython3",
   "version": "3.11.3"
  }
 },
 "nbformat": 4,
 "nbformat_minor": 5
}
