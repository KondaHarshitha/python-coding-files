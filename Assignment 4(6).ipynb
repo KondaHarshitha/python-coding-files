{
 "cells": [
  {
   "cell_type": "markdown",
   "id": "4032a555",
   "metadata": {},
   "source": [
    "#  1. Define a function which will return Max of three numbers"
   ]
  },
  {
   "cell_type": "code",
   "execution_count": 8,
   "id": "f4ce0740",
   "metadata": {},
   "outputs": [
    {
     "name": "stdout",
     "output_type": "stream",
     "text": [
      "The maximum of the three numbers is: 66\n"
     ]
    }
   ],
   "source": [
    "def n(a, b, c):\n",
    "    return max(a, b, c)\n",
    "\n",
    "num1 = 2\n",
    "num2 = 66\n",
    "num3 = 5\n",
    "\n",
    "max = n(num1, num2, num3)\n",
    "print(\"The maximum of the three numbers is:\", max)"
   ]
  },
  {
   "cell_type": "markdown",
   "id": "4d0b07f4",
   "metadata": {},
   "source": [
    "# 2. Define a Python Function to reverse a string"
   ]
  },
  {
   "cell_type": "code",
   "execution_count": 5,
   "id": "5341b404",
   "metadata": {},
   "outputs": [],
   "source": [
    "def reverse():\n",
    "    string=input(\"enter the string: \")\n",
    "    reverse=\"\"\n",
    "    for i in string:\n",
    "        char=string[-1]\n",
    "        string=string[0:-1]\n",
    "        reverse=reverse+char\n",
    "    return reverse"
   ]
  },
  {
   "cell_type": "code",
   "execution_count": 6,
   "id": "956cf626",
   "metadata": {},
   "outputs": [
    {
     "name": "stdout",
     "output_type": "stream",
     "text": [
      "enter the string: hatrfst\n"
     ]
    },
    {
     "data": {
      "text/plain": [
       "'tsfrtah'"
      ]
     },
     "execution_count": 6,
     "metadata": {},
     "output_type": "execute_result"
    }
   ],
   "source": [
    "reverse()"
   ]
  },
  {
   "cell_type": "markdown",
   "id": "61e853ee",
   "metadata": {},
   "source": [
    "# 3. Write a Python program to define a function that accepts 2 values and return its sum, subtraction and multiplication. "
   ]
  },
  {
   "cell_type": "code",
   "execution_count": 10,
   "id": "6b622225",
   "metadata": {},
   "outputs": [
    {
     "name": "stdout",
     "output_type": "stream",
     "text": [
      "enter first value: 5\n",
      "enter second value: 5\n"
     ]
    },
    {
     "data": {
      "text/plain": [
       "(10, 0, 25)"
      ]
     },
     "execution_count": 10,
     "metadata": {},
     "output_type": "execute_result"
    }
   ],
   "source": [
    "def cal(x,y):\n",
    "    return x+y,x-y,x*y\n",
    "x=int(input(\"enter first value: \"))\n",
    "y=int(input(\"enter second value: \"))\n",
    "cal(x,y)"
   ]
  },
  {
   "cell_type": "markdown",
   "id": "f843b42b",
   "metadata": {},
   "source": [
    "#  4.Define a function that accepts roll number and returns whether the student is present or absent"
   ]
  },
  {
   "cell_type": "code",
   "execution_count": 13,
   "id": "de19a6e3",
   "metadata": {},
   "outputs": [
    {
     "data": {
      "text/plain": [
       "'absent'"
      ]
     },
     "execution_count": 13,
     "metadata": {},
     "output_type": "execute_result"
    }
   ],
   "source": [
    "def roll_no(x):\n",
    "    if x<=6:\n",
    "        return \"present\"\n",
    "    elif x>6:\n",
    "        return \"absent\"\n",
    "roll_no(10)        \n",
    "    "
   ]
  },
  {
   "cell_type": "markdown",
   "id": "11fc589b",
   "metadata": {},
   "source": [
    "# 5.Define a function in python that accepts n values and returns the maximum of n numbers"
   ]
  },
  {
   "cell_type": "code",
   "execution_count": 11,
   "id": "64f8219b",
   "metadata": {},
   "outputs": [
    {
     "name": "stdout",
     "output_type": "stream",
     "text": [
      "no of elements: 6\n",
      "enter the elements: 1\n",
      "enter the elements: 2\n",
      "enter the elements: 5\n",
      "enter the elements: 88\n",
      "enter the elements: 6\n",
      "enter the elements: 55\n"
     ]
    },
    {
     "data": {
      "text/plain": [
       "88"
      ]
     },
     "execution_count": 11,
     "metadata": {},
     "output_type": "execute_result"
    }
   ],
   "source": [
    "def max2(*x):\n",
    "    x=[]\n",
    "    a=int(input(\"no of elements: \"))\n",
    "    for i in range(a):\n",
    "        k=int(input(\"enter the elements: \"))\n",
    "        x.append(k)\n",
    "        x.sort()\n",
    "        max2=x[-1]\n",
    "    return max2\n",
    "\n",
    "max2()\n"
   ]
  },
  {
   "cell_type": "markdown",
   "id": "26d25874",
   "metadata": {},
   "source": [
    "# 6. Define a function which counts vowels and consonant in a word. "
   ]
  },
  {
   "cell_type": "code",
   "execution_count": 10,
   "id": "b3305dcb",
   "metadata": {},
   "outputs": [
    {
     "name": "stdout",
     "output_type": "stream",
     "text": [
      "enter the word: Harshitha\n",
      "no of vowels: 3\n",
      "no of consonants: 6\n"
     ]
    }
   ],
   "source": [
    "def vow_con(word):\n",
    "    vowels=[\"a\",\"e\",\"i\",\"o\",\"u\"]\n",
    "    vow=0\n",
    "    con=0\n",
    "    for i in word:\n",
    "        if i in vowels:\n",
    "            vow+=1\n",
    "        else:\n",
    "            con+=1\n",
    "    print(\"no of vowels:\",vow)\n",
    "    print(\"no of consonants:\",con)\n",
    "word=input(\"enter the word: \")\n",
    "vow_con(word)"
   ]
  },
  {
   "cell_type": "markdown",
   "id": "55c74aae",
   "metadata": {},
   "source": [
    "# 7. Define a function that returns Factorial of a number"
   ]
  },
  {
   "cell_type": "code",
   "execution_count": 9,
   "id": "74774272",
   "metadata": {},
   "outputs": [
    {
     "name": "stdout",
     "output_type": "stream",
     "text": [
      "enter the number: 6\n"
     ]
    },
    {
     "data": {
      "text/plain": [
       "720"
      ]
     },
     "execution_count": 9,
     "metadata": {},
     "output_type": "execute_result"
    }
   ],
   "source": [
    "def f(x):\n",
    "    if x==0 or x==1:\n",
    "        return 1\n",
    "    else:\n",
    "        return x*f(x-1)\n",
    "        \n",
    "x=int(input(\"enter the number: \"))\n",
    "f(x)"
   ]
  },
  {
   "cell_type": "markdown",
   "id": "f16e16b3",
   "metadata": {},
   "source": [
    "# 8. Define a function that accepts radius and returns the area of a circle."
   ]
  },
  {
   "cell_type": "code",
   "execution_count": null,
   "id": "9f0fc1cc",
   "metadata": {},
   "outputs": [],
   "source": []
  },
  {
   "cell_type": "markdown",
   "id": "269f08cc",
   "metadata": {},
   "source": [
    "# 9. Define a function that takes a number as a parameter and check the number is prime or not."
   ]
  },
  {
   "cell_type": "code",
   "execution_count": null,
   "id": "9f3dae11",
   "metadata": {},
   "outputs": [],
   "source": []
  },
  {
   "cell_type": "markdown",
   "id": "da3cd587",
   "metadata": {},
   "source": [
    "# 10. Mary wants to run a 25-mile marathon. When she attempts to sign up for the marathon, she notices the sign-up sheet doesn't directly state the marathon's length. Instead, the marathon's length is listed in small, different portions. Help Mary find out how long the marathon actually is. So create a function that "
   ]
  },
  {
   "cell_type": "code",
   "execution_count": null,
   "id": "98e7fa83",
   "metadata": {},
   "outputs": [],
   "source": []
  },
  {
   "cell_type": "markdown",
   "id": "f689d92c",
   "metadata": {},
   "source": [
    "# 11. Create a function that takes a number and returns True if the number is automorphic, False if it isn't."
   ]
  },
  {
   "cell_type": "code",
   "execution_count": 14,
   "id": "e3dbaef0",
   "metadata": {},
   "outputs": [
    {
     "name": "stdout",
     "output_type": "stream",
     "text": [
      "enter the number to ckeck:6\n"
     ]
    },
    {
     "data": {
      "text/plain": [
       "True"
      ]
     },
     "execution_count": 14,
     "metadata": {},
     "output_type": "execute_result"
    }
   ],
   "source": [
    "def automorphic(x=5):\n",
    "    square=x**2\n",
    "    s=str(square)\n",
    "    if(str(x)==s[-1]):\n",
    "        return True\n",
    "    else:\n",
    "        return False\n",
    "num=int(input(\"enter the number to ckeck:\"))\n",
    "automorphic(num)\n",
    "    "
   ]
  },
  {
   "cell_type": "markdown",
   "id": "57667722",
   "metadata": {},
   "source": [
    "# 12) Create a function, that will take given a, b, c, and do the following:  Add a to itself b times and Check if the result is divisible by c. and return true if it is divisible by c or false"
   ]
  },
  {
   "cell_type": "code",
   "execution_count": 9,
   "id": "7f5a2724",
   "metadata": {},
   "outputs": [
    {
     "name": "stdout",
     "output_type": "stream",
     "text": [
      "enter num1: 1\n",
      "enter num2: 5\n",
      "enter num3: 3\n"
     ]
    },
    {
     "data": {
      "text/plain": [
       "False"
      ]
     },
     "execution_count": 9,
     "metadata": {},
     "output_type": "execute_result"
    }
   ],
   "source": [
    "def check(a,b,c):\n",
    "    num=0\n",
    "    for i in range(b):\n",
    "        num+=a\n",
    "    if num%c==0:\n",
    "        return True\n",
    "    else:\n",
    "        return False\n",
    "    \n",
    "a=int(input(\"enter num1: \"))\n",
    "b=int(input(\"enter num2: \"))\n",
    "c=int(input(\"enter num3: \"))\n",
    "check(a,b,c)"
   ]
  },
  {
   "cell_type": "markdown",
   "id": "373088ef",
   "metadata": {},
   "source": [
    "# 13) Create a function that changes specific words into emoticons. Given a sentence as a string, replace the words smile, grin, sad and mad with their corresponding emoticons.\n"
   ]
  },
  {
   "cell_type": "code",
   "execution_count": 8,
   "id": "1656d4c0",
   "metadata": {},
   "outputs": [
    {
     "name": "stdout",
     "output_type": "stream",
     "text": [
      "enter the string: I'm mad at u\n"
     ]
    },
    {
     "data": {
      "text/plain": [
       "\"I'm :P at u\""
      ]
     },
     "execution_count": 8,
     "metadata": {},
     "output_type": "execute_result"
    }
   ],
   "source": [
    "def emotion(string):\n",
    "    if \"smile\" in string:\n",
    "        string=string.replace(\"smile\",\":D\")\n",
    "    elif \"grin\" in string:\n",
    "        string=string.replace(\"grin\",\":)\")\n",
    "    elif \"sad\" in string:\n",
    "        string=string.replace(\"sad\",\":(\")\n",
    "    elif \"mad\" in string:\n",
    "        string=string.replace(\"mad\",\":P\")\n",
    "    return string\n",
    "\n",
    "string=input(\"enter the string: \")\n",
    "emotion(string)"
   ]
  },
  {
   "cell_type": "markdown",
   "id": "bc4f9b15",
   "metadata": {},
   "source": [
    "# 14) Write a Python program to square and cube every number in a given list of integers using Lambda"
   ]
  },
  {
   "cell_type": "code",
   "execution_count": null,
   "id": "902bae8d",
   "metadata": {},
   "outputs": [],
   "source": []
  },
  {
   "cell_type": "markdown",
   "id": "a74bae08",
   "metadata": {},
   "source": [
    "# 15)Write a Python program to check whether a given string is number or not using Lambda"
   ]
  },
  {
   "cell_type": "code",
   "execution_count": 5,
   "id": "1f571910",
   "metadata": {},
   "outputs": [
    {
     "name": "stdout",
     "output_type": "stream",
     "text": [
      "enter a string to check: 123\n"
     ]
    },
    {
     "data": {
      "text/plain": [
       "True"
      ]
     },
     "execution_count": 5,
     "metadata": {},
     "output_type": "execute_result"
    }
   ],
   "source": [
    "k=input(\"enter a string to check: \")\n",
    "num=lambda x:x.isdigit() \n",
    "num(k)"
   ]
  },
  {
   "cell_type": "code",
   "execution_count": null,
   "id": "fda32b67",
   "metadata": {},
   "outputs": [],
   "source": []
  }
 ],
 "metadata": {
  "kernelspec": {
   "display_name": "Python 3 (ipykernel)",
   "language": "python",
   "name": "python3"
  },
  "language_info": {
   "codemirror_mode": {
    "name": "ipython",
    "version": 3
   },
   "file_extension": ".py",
   "mimetype": "text/x-python",
   "name": "python",
   "nbconvert_exporter": "python",
   "pygments_lexer": "ipython3",
   "version": "3.11.3"
  }
 },
 "nbformat": 4,
 "nbformat_minor": 5
}
