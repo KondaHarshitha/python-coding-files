{
 "cells": [
  {
   "cell_type": "code",
   "execution_count": 7,
   "id": "9f253e4d",
   "metadata": {},
   "outputs": [
    {
     "name": "stdout",
     "output_type": "stream",
     "text": [
      "1\n",
      "2 2\n",
      "3 3 3\n",
      "4 4 4 4\n",
      "5 5 5 5 5\n"
     ]
    }
   ],
   "source": [
    "# 1.program to print the below pattern using for loop as or while loop\n",
    "#a.1  \n",
    "\n",
    "x=1\n",
    "while x<=5:\n",
    "    if x==1:\n",
    "        print(\"1\")\n",
    "    elif x==2:\n",
    "        print(\"2 2\")\n",
    "    elif x==3:\n",
    "        print(\"3 3 3\")\n",
    "    elif x==4:\n",
    "        print(\"4 4 4 4\")\n",
    "    else:\n",
    "        print(\"5 5 5 5 5\")\n",
    "    x=x+1    "
   ]
  },
  {
   "cell_type": "code",
   "execution_count": 13,
   "id": "f99be5b4",
   "metadata": {},
   "outputs": [
    {
     "name": "stdout",
     "output_type": "stream",
     "text": [
      "1\n",
      "1 \n",
      "1 2 3\n",
      "1 2 3 4\n",
      "1 2 3 4 5\n"
     ]
    }
   ],
   "source": [
    "# b.\n",
    "x=1\n",
    "while x<=5:\n",
    "    if x==1:\n",
    "        print(\"1\")\n",
    "    elif x==2:\n",
    "        print(\"1 \")\n",
    "    elif x==3:\n",
    "        print(\"1 2 3\")\n",
    "    elif x==4:\n",
    "        print(\"1 2 3 4\")\n",
    "    else:\n",
    "        print(\"1 2 3 4 5\")\n",
    "    x=x+1"
   ]
  },
  {
   "cell_type": "code",
   "execution_count": 12,
   "id": "cd2b3760",
   "metadata": {},
   "outputs": [
    {
     "name": "stdout",
     "output_type": "stream",
     "text": [
      "1 1 1 1 1\n",
      "2 2 2 2\n",
      "3 3 3\n",
      "4 4\n",
      "5\n"
     ]
    }
   ],
   "source": [
    "  #c. \n",
    "x=1\n",
    "while x<=5:\n",
    "        if x==1:\n",
    "            print(\"1 1 1 1 1\")\n",
    "        elif x==2:\n",
    "            print(\"2 2 2 2\")\n",
    "        elif x==3:\n",
    "            print(\"3 3 3\")\n",
    "        elif x==4:\n",
    "            print(\"4 4\")\n",
    "        else:\n",
    "            print(\"5\")\n",
    "        x=x+1"
   ]
  },
  {
   "cell_type": "code",
   "execution_count": 14,
   "id": "32fee029",
   "metadata": {},
   "outputs": [
    {
     "name": "stdout",
     "output_type": "stream",
     "text": [
      "5 5 5 5 5\n",
      "5 5 5 5\n",
      "5 5 5\n",
      "5 5\n",
      "5\n"
     ]
    }
   ],
   "source": [
    "# d.\n",
    "x=1\n",
    "while x<=5:\n",
    "        if x==1:\n",
    "            print(\"5 5 5 5 5\")\n",
    "        elif x==2:\n",
    "            print(\"5 5 5 5\")\n",
    "        elif x==3:\n",
    "            print(\"5 5 5\")\n",
    "        elif x==4:\n",
    "            print(\"5 5\")\n",
    "        else:\n",
    "            print(\"5\")\n",
    "        x=x+1"
   ]
  },
  {
   "cell_type": "code",
   "execution_count": 15,
   "id": "8cc30a3a",
   "metadata": {},
   "outputs": [
    {
     "name": "stdout",
     "output_type": "stream",
     "text": [
      "0 1 2 3 4 5\n",
      "0 1 2 3 4\n",
      "0 1 2 3\n",
      "0 1 2\n",
      "0 1\n"
     ]
    }
   ],
   "source": [
    "# e.\n",
    "x=1\n",
    "while x<=5:\n",
    "        if x==1:\n",
    "            print(\"0 1 2 3 4 5\")\n",
    "        elif x==2:\n",
    "            print(\"0 1 2 3 4\")\n",
    "        elif x==3:\n",
    "            print(\"0 1 2 3\")\n",
    "        elif x==4:\n",
    "            print(\"0 1 2\")\n",
    "        else:\n",
    "            print(\"0 1\")\n",
    "        x=x+1"
   ]
  },
  {
   "cell_type": "code",
   "execution_count": 16,
   "id": "676b03cb",
   "metadata": {},
   "outputs": [
    {
     "name": "stdout",
     "output_type": "stream",
     "text": [
      "1\n",
      "3 3\n",
      "5 5 5\n",
      "7 7 7 7\n",
      "9 9 9 9 9\n"
     ]
    }
   ],
   "source": [
    "# f.\n",
    "x=1\n",
    "while x<=5:\n",
    "    if x==1:\n",
    "        print(\"1\")\n",
    "    elif x==2:\n",
    "        print(\"3 3\")\n",
    "    elif x==3:\n",
    "        print(\"5 5 5\")\n",
    "    elif x==4:\n",
    "        print(\"7 7 7 7\")\n",
    "    else:\n",
    "        print(\"9 9 9 9 9\")\n",
    "    x=x+1"
   ]
  },
  {
   "cell_type": "code",
   "execution_count": 17,
   "id": "cb442585",
   "metadata": {},
   "outputs": [
    {
     "name": "stdout",
     "output_type": "stream",
     "text": [
      "5 5 5 5 5\n",
      "4 4 4 4\n",
      "3 3 3\n",
      "2 2\n",
      "1\n"
     ]
    }
   ],
   "source": [
    "# g.\n",
    "x=1\n",
    "while x<=5:\n",
    "        if x==1:\n",
    "            print(\"5 5 5 5 5\")\n",
    "        elif x==2:\n",
    "            print(\"4 4 4 4\")\n",
    "        elif x==3:\n",
    "            print(\"3 3 3\")\n",
    "        elif x==4:\n",
    "            print(\"2 2\")\n",
    "        else:\n",
    "            print(\"1\")\n",
    "        x=x+1\n",
    "        "
   ]
  },
  {
   "cell_type": "code",
   "execution_count": 18,
   "id": "c827656c",
   "metadata": {},
   "outputs": [
    {
     "name": "stdout",
     "output_type": "stream",
     "text": [
      "1\n",
      "2 1\n",
      "3 2 1\n",
      "4 3 2 1\n",
      "5 4 3 2 1\n"
     ]
    }
   ],
   "source": [
    "# h.\n",
    "x=1\n",
    "while x<=5:\n",
    "    if x==1:\n",
    "        print(\"1\")\n",
    "    elif x==2:\n",
    "        print(\"2 1\")\n",
    "    elif x==3:\n",
    "        print(\"3 2 1\")\n",
    "    elif x==4:\n",
    "        print(\"4 3 2 1\")\n",
    "    else:\n",
    "        print(\"5 4 3 2 1\")\n",
    "    x=x+1"
   ]
  },
  {
   "cell_type": "code",
   "execution_count": 19,
   "id": "155f49cc",
   "metadata": {},
   "outputs": [
    {
     "name": "stdout",
     "output_type": "stream",
     "text": [
      "5 4 3 2 1\n",
      "4 3 2 1\n",
      "3 2 1\n",
      "2 1\n",
      "1\n"
     ]
    }
   ],
   "source": [
    "# i.\n",
    "x=1\n",
    "while x<=5:\n",
    "        if x==1:\n",
    "            print(\"5 4 3 2 1\")\n",
    "        elif x==2:\n",
    "            print(\"4 3 2 1\")\n",
    "        elif x==3:\n",
    "            print(\"3 2 1\")\n",
    "        elif x==4:\n",
    "            print(\"2 1\")\n",
    "        else:\n",
    "            print(\"1\")\n",
    "        x=x+1"
   ]
  },
  {
   "cell_type": "code",
   "execution_count": 20,
   "id": "ed987e99",
   "metadata": {},
   "outputs": [
    {
     "name": "stdout",
     "output_type": "stream",
     "text": [
      "1\n",
      "3 2\n",
      "6 5 4\n",
      "10 9 8 7\n"
     ]
    }
   ],
   "source": [
    "# j.\n",
    "x=1\n",
    "while x<=4:\n",
    "    if x==1:\n",
    "        print(\"1\")\n",
    "    elif x==2:\n",
    "        print(\"3 2\")\n",
    "    elif x==3:\n",
    "        print(\"6 5 4\")\n",
    "    elif x==4:\n",
    "        print(\"10 9 8 7\")\n",
    "    x=x+1"
   ]
  },
  {
   "cell_type": "code",
   "execution_count": 5,
   "id": "88fbba41",
   "metadata": {},
   "outputs": [
    {
     "name": "stdout",
     "output_type": "stream",
     "text": [
      "        1\n",
      "      1 2\n",
      "    1 2 3\n",
      "  1 2 3 4\n",
      "1 2 3 4 5\n"
     ]
    }
   ],
   "source": [
    "# k. \n",
    "x=1\n",
    "while x<=5:\n",
    "    if x==1:\n",
    "        print(\"        1\")\n",
    "    elif x==2:\n",
    "        print(\"      1 2\")\n",
    "    elif x==3:\n",
    "        print(\"    1 2 3\")\n",
    "    elif x==4:\n",
    "        print(\"  1 2 3 4\")\n",
    "    else:\n",
    "        print(\"1 2 3 4 5\")\n",
    "    x=x+1"
   ]
  },
  {
   "cell_type": "code",
   "execution_count": 2,
   "id": "5d222fc3",
   "metadata": {},
   "outputs": [
    {
     "name": "stdout",
     "output_type": "stream",
     "text": [
      "1\n",
      "1 1\n",
      "1 2 1\n",
      "1 3 3 1\n",
      "1 4 6 4 1\n",
      "1 5 10 10 5 1\n",
      "1 6 15 20 15 6 1\n"
     ]
    }
   ],
   "source": [
    "# l.\n",
    "x=1\n",
    "while x<=7:\n",
    "    if x==1:\n",
    "        print(\"1\")\n",
    "    elif x==2:\n",
    "        print(\"1 1\")\n",
    "    elif x==3:\n",
    "        print(\"1 2 1\")\n",
    "    elif x==4:\n",
    "        print(\"1 3 3 1\")\n",
    "    elif x==5:\n",
    "        print(\"1 4 6 4 1\")\n",
    "    elif x==6:\n",
    "        print(\"1 5 10 10 5 1\")\n",
    "    else :\n",
    "        print(\"1 6 15 20 15 6 1\")\n",
    "    x=x+1"
   ]
  },
  {
   "cell_type": "code",
   "execution_count": 21,
   "id": "ed44f670",
   "metadata": {},
   "outputs": [
    {
     "name": "stdout",
     "output_type": "stream",
     "text": [
      "1 2 3 4 5\n",
      "2 2 3 4 5\n",
      "3 3 3 4 5\n",
      "4 4 4 4 5\n",
      "5 5 5 5 5\n"
     ]
    }
   ],
   "source": [
    "# m.\n",
    "x=1\n",
    "while x<=5:\n",
    "    if x==1:\n",
    "        print(\"1 2 3 4 5\")\n",
    "    elif x==2:\n",
    "        print(\"2 2 3 4 5\")\n",
    "    elif x==3:\n",
    "        print(\"3 3 3 4 5\")\n",
    "    elif x==4:\n",
    "        print(\"4 4 4 4 5\")\n",
    "    else:\n",
    "        print(\"5 5 5 5 5\")\n",
    "    x=x+1"
   ]
  },
  {
   "cell_type": "code",
   "execution_count": 22,
   "id": "e01b58c7",
   "metadata": {},
   "outputs": [
    {
     "name": "stdout",
     "output_type": "stream",
     "text": [
      "1\n",
      "2 4\n",
      "3 6 9\n",
      "4 8 12 16\n",
      "5 10 15 20 25\n",
      "6 12 18 24 30 36\n",
      "7 14 21 28 35 42 49\n",
      "8 16 24 32 40 48 56 64\n"
     ]
    }
   ],
   "source": [
    "# n.\n",
    "x=1\n",
    "while x<=8:\n",
    "    if x==1:\n",
    "        print(\"1\")\n",
    "    elif x==2:\n",
    "        print(\"2 4\")\n",
    "    elif x==3:\n",
    "        print(\"3 6 9\")\n",
    "    elif x==4:\n",
    "        print(\"4 8 12 16\")\n",
    "    elif x==5:\n",
    "        print(\"5 10 15 20 25\")\n",
    "    elif x==6:\n",
    "        print(\"6 12 18 24 30 36\")\n",
    "    elif x==7:\n",
    "        print(\"7 14 21 28 35 42 49\")\n",
    "    else :\n",
    "        print(\"8 16 24 32 40 48 56 64\")\n",
    "    x=x+1"
   ]
  },
  {
   "cell_type": "code",
   "execution_count": 24,
   "id": "6cf6090d",
   "metadata": {},
   "outputs": [
    {
     "name": "stdout",
     "output_type": "stream",
     "text": [
      "*\n",
      "* *\n",
      "* * *\n",
      "* * * *\n",
      "* * * * *\n"
     ]
    }
   ],
   "source": [
    "# o.\n",
    "x=1\n",
    "while x<=5:\n",
    "    if x==1:\n",
    "        print(\"*\")\n",
    "    elif x==2:\n",
    "        print(\"* *\")\n",
    "    elif x==3:\n",
    "        print(\"* * *\")\n",
    "    elif x==4:\n",
    "        print(\"* * * *\")\n",
    "    else:\n",
    "        print(\"* * * * *\")\n",
    "    x=x+1    "
   ]
  },
  {
   "cell_type": "code",
   "execution_count": 25,
   "id": "5d045178",
   "metadata": {},
   "outputs": [
    {
     "name": "stdout",
     "output_type": "stream",
     "text": [
      "        *\n",
      "      * *\n",
      "    * * *\n",
      "  * * * *\n",
      "* * * * *\n"
     ]
    }
   ],
   "source": [
    "# p.\n",
    "x=1\n",
    "while x<=5:\n",
    "    if x==1:\n",
    "        print(\"        *\")\n",
    "    elif x==2:\n",
    "        print(\"      * *\")\n",
    "    elif x==3:\n",
    "        print(\"    * * *\")\n",
    "    elif x==4:\n",
    "        print(\"  * * * *\")\n",
    "    else:\n",
    "        print(\"* * * * *\")\n",
    "    x=x+1"
   ]
  },
  {
   "cell_type": "code",
   "execution_count": 26,
   "id": "9038b51f",
   "metadata": {},
   "outputs": [
    {
     "name": "stdout",
     "output_type": "stream",
     "text": [
      "* * * * *\n",
      "* * * *\n",
      "* * *\n",
      "* *\n",
      "*\n"
     ]
    }
   ],
   "source": [
    "# q.\n",
    "x=1\n",
    "while x<=5:\n",
    "        if x==1:\n",
    "            print(\"* * * * *\")\n",
    "        elif x==2:\n",
    "            print(\"* * * *\")\n",
    "        elif x==3:\n",
    "            print(\"* * *\")\n",
    "        elif x==4:\n",
    "            print(\"* *\")\n",
    "        else:\n",
    "            print(\"*\")\n",
    "        x=x+1"
   ]
  },
  {
   "cell_type": "code",
   "execution_count": 30,
   "id": "09e21459",
   "metadata": {},
   "outputs": [
    {
     "name": "stdout",
     "output_type": "stream",
     "text": [
      " * * * * * *\n",
      "  * * * * *\n",
      "   * * * *\n",
      "    * * *\n",
      "     * *\n",
      "      *\n"
     ]
    }
   ],
   "source": [
    "# r.\n",
    "x=1\n",
    "while x<=6:\n",
    "        if x==1:\n",
    "            print(\" * * * * * *\")\n",
    "        elif x==2:\n",
    "            print(\"  * * * * *\")\n",
    "        elif x==3:\n",
    "            print(\"   * * * *\")\n",
    "        elif x==4:\n",
    "            print(\"    * * *\")\n",
    "        elif x==5:\n",
    "            print(\"     * *\")\n",
    "        else:\n",
    "            print(\"      *\")\n",
    "        x=x+1"
   ]
  },
  {
   "cell_type": "code",
   "execution_count": 37,
   "id": "4ea31e49",
   "metadata": {},
   "outputs": [
    {
     "name": "stdout",
     "output_type": "stream",
     "text": [
      "*****\n",
      " ****\n",
      "  ***\n",
      "   **\n",
      "    *\n"
     ]
    }
   ],
   "source": [
    "# s.\n",
    "x=1\n",
    "while x<=5:\n",
    "        if x==1:\n",
    "            print(\"*****\")\n",
    "        elif x==2:\n",
    "            print(\" ****\")\n",
    "        elif x==3:\n",
    "            print(\"  ***\")\n",
    "        elif x==4: \n",
    "            print(\"   **\")\n",
    "        else:\n",
    "            print(\"    *\")\n",
    "        x=x+1"
   ]
  },
  {
   "cell_type": "code",
   "execution_count": null,
   "id": "305fa360",
   "metadata": {},
   "outputs": [],
   "source": []
  },
  {
   "cell_type": "code",
   "execution_count": 19,
   "id": "c12630c4",
   "metadata": {},
   "outputs": [
    {
     "name": "stdout",
     "output_type": "stream",
     "text": [
      "      *\n",
      "     * *\n",
      "    * * *\n",
      "   * * * *\n",
      "  * * * * *\n",
      " * * * * * *\n",
      "* * * * * * *\n"
     ]
    }
   ],
   "source": [
    "# t.\n",
    "a=\"1234567\"\n",
    "for i in a:\n",
    "    if i==\"1\":\n",
    "        print(\"      *\")\n",
    "    elif i==\"2\":\n",
    "        print(\"     * *\")\n",
    "    elif i==\"3\":\n",
    "        print(\"    * * *\")\n",
    "    elif i==\"4\":\n",
    "        print(\"   * * * *\")\n",
    "    elif i==\"5\":\n",
    "        print(\"  * * * * *\")\n",
    "    elif i==\"6\":\n",
    "         print(\" * * * * * *\")\n",
    "    else:\n",
    "         print(\"* * * * * * *\")"
   ]
  },
  {
   "cell_type": "code",
   "execution_count": 9,
   "id": "dcf74030",
   "metadata": {},
   "outputs": [
    {
     "name": "stdout",
     "output_type": "stream",
     "text": [
      "*\n",
      "* *\n",
      "* * *\n",
      "* * * *\n",
      "* * * * *\n",
      "* * * * * *\n",
      "* * * * * *\n",
      "* * * * *\n",
      "* * * *\n",
      "* * * \n",
      "* *\n",
      "* \n"
     ]
    }
   ],
   "source": [
    "# u.\n",
    "x=1\n",
    "while x<=6:\n",
    "    if x==1:\n",
    "        print(\"*\")\n",
    "    elif x==2:\n",
    "        print(\"* *\")\n",
    "    elif x==3:\n",
    "        print(\"* * *\")\n",
    "    elif x==4:\n",
    "        print(\"* * * *\")\n",
    "    elif x==5:\n",
    "        print(\"* * * * *\")\n",
    "    else:\n",
    "        print(\"* * * * * *\")\n",
    "    x=x+1    \n",
    "   \n",
    "\n",
    "x=1\n",
    "while x<=6:\n",
    "    if x==1:\n",
    "        print(\"* * * * * *\")\n",
    "    elif x==2:\n",
    "        print(\"* * * * *\")\n",
    "    elif x==3:\n",
    "        print(\"* * * *\")\n",
    "    elif x==4:\n",
    "        print(\"* * * \")\n",
    "    elif x==5:\n",
    "        print(\"* *\")\n",
    "    else:\n",
    "        print(\"* \")\n",
    "    x=x+1    \n",
    "        "
   ]
  },
  {
   "cell_type": "code",
   "execution_count": 1,
   "id": "126af9ac",
   "metadata": {},
   "outputs": [
    {
     "name": "stdout",
     "output_type": "stream",
     "text": [
      "*\n",
      "* *\n",
      "* * *\n",
      "* * * *\n",
      "* * * * *\n",
      "* * * * \n",
      "* * * \n",
      "* * \n",
      "* \n"
     ]
    }
   ],
   "source": [
    "##v\n",
    "x=1\n",
    "while x<=5:\n",
    "    if x==1:\n",
    "        print(\"*\")\n",
    "    elif x==2:\n",
    "        print(\"* *\")\n",
    "    elif x==3:\n",
    "        print(\"* * *\")\n",
    "    elif x==4:\n",
    "        print(\"* * * *\")\n",
    "    else:\n",
    "        print(\"* * * * *\")\n",
    "\n",
    "    x=x+1    \n",
    "x=1\n",
    "while x<=4:\n",
    "    if x==1:\n",
    "        print(\"* * * * \")\n",
    "    elif x==2:\n",
    "        print(\"* * * \")\n",
    "    elif x==3:\n",
    "        print(\"* * \")\n",
    "    else:\n",
    "        print(\"* \")\n",
    "    x=x+1 "
   ]
  },
  {
   "cell_type": "code",
   "execution_count": 10,
   "id": "404457cf",
   "metadata": {},
   "outputs": [
    {
     "name": "stdout",
     "output_type": "stream",
     "text": [
      "        * \n",
      "      * *\n",
      "    * * *\n",
      "  * * * *\n",
      "* * * * * \n",
      "  * * * * \n",
      "    * * * \n",
      "      * * \n",
      "        * \n"
     ]
    }
   ],
   "source": [
    "## w.\n",
    "x=1\n",
    "while x<=9:\n",
    "    if  x==1:\n",
    "        print(\"        * \")\n",
    "    elif x==2:\n",
    "        print(\"      * *\")\n",
    "    elif x==3:\n",
    "        print(\"    * * *\")\n",
    "    elif x==4:\n",
    "        print(\"  * * * *\")\n",
    "    elif x==5:\n",
    "        print(\"* * * * * \")\n",
    "    elif x==6:\n",
    "        print(\"  * * * * \")\n",
    "    elif x==7:\n",
    "        print(\"    * * * \")\n",
    "    elif x==8:\n",
    "        print(\"      * * \")\n",
    "    else:\n",
    "        print(\"        * \")\n",
    "       \n",
    "    x=x+1    "
   ]
  },
  {
   "cell_type": "code",
   "execution_count": 4,
   "id": "70c75462",
   "metadata": {},
   "outputs": [
    {
     "name": "stdout",
     "output_type": "stream",
     "text": [
      "  * * * * *\n",
      "   * * * *\n",
      "    * * *\n",
      "     * *\n",
      "      *\n",
      "      *\n",
      "     * *\n",
      "    * * *\n",
      "   * * * *\n",
      "  * * * * *\n"
     ]
    }
   ],
   "source": [
    "# x.\n",
    "x=1\n",
    "while x<=10:\n",
    "        if x==1:\n",
    "            print(\"  * * * * *\")\n",
    "        elif x==2:\n",
    "            print(\"   * * * *\")\n",
    "        elif x==3:\n",
    "            print(\"    * * *\")\n",
    "        elif x==4:\n",
    "            print(\"     * *\")\n",
    "        elif x==5:\n",
    "            print(\"      *\")\n",
    "        elif x==6:\n",
    "            print(\"      *\")\n",
    "        elif x==7:\n",
    "            print(\"     * *\")\n",
    "        elif x==8:\n",
    "            print(\"    * * *\")\n",
    "        elif x==9:\n",
    "            print(\"   * * * *\")\n",
    "        else:\n",
    "            print(\"  * * * * *\")\n",
    "        x=x+1\n",
    "        "
   ]
  },
  {
   "cell_type": "code",
   "execution_count": 7,
   "id": "161c8e28",
   "metadata": {},
   "outputs": [
    {
     "name": "stdout",
     "output_type": "stream",
     "text": [
      "     *\n",
      "    * *\n",
      "   * * *\n",
      "  * * * *\n",
      " * * * * *\n",
      "* * * * * *\n",
      " * * * * *\n",
      "  * * * *\n",
      "   * * * \n",
      "    * *\n",
      "     * \n"
     ]
    }
   ],
   "source": [
    "# y.\n",
    "x=1\n",
    "while x<=11:\n",
    "    if x==1:\n",
    "        print(\"     *\")\n",
    "    elif x==2:\n",
    "        print(\"    * *\")\n",
    "    elif x==3:\n",
    "        print(\"   * * *\")\n",
    "    elif x==4:\n",
    "        print(\"  * * * *\")\n",
    "    elif x==5:\n",
    "        print(\" * * * * *\")\n",
    "    elif x==6:\n",
    "        print(\"* * * * * *\")\n",
    "    elif x==7:\n",
    "        print(\" * * * * *\")\n",
    "    elif x==8:\n",
    "        print(\"  * * * *\")\n",
    "    elif x==9:\n",
    "        print(\"   * * * \")\n",
    "    elif x==10:\n",
    "        print(\"    * *\")\n",
    "    else:\n",
    "        print(\"     * \")\n",
    "    x=x+1    \n",
    "        "
   ]
  },
  {
   "cell_type": "code",
   "execution_count": 25,
   "id": "434e69dc",
   "metadata": {},
   "outputs": [
    {
     "name": "stdout",
     "output_type": "stream",
     "text": [
      "     *\n",
      "    * *\n",
      "   *   *\n",
      "  *     *\n",
      " *       *\n",
      "  *      * \n",
      "   *    *  \n",
      "     * *   \n",
      "      *  \n"
     ]
    }
   ],
   "source": [
    "# z.\n",
    "x=1\n",
    "while x<=9:\n",
    "    if x==1:\n",
    "        print(\"     *\")\n",
    "    elif x==2:\n",
    "        print(\"    * *\")\n",
    "    elif x==3:\n",
    "        print(\"   *   *\")\n",
    "    elif x==4:\n",
    "        print(\"  *     *\")\n",
    "    elif x==5:\n",
    "        print(\" *       *\")\n",
    "    elif x==6:\n",
    "        print(\"  *      * \")\n",
    "    elif x==7:\n",
    "        print(\"   *    *  \")\n",
    "    elif x==8:\n",
    "        print(\"     * *   \") \n",
    "    else:\n",
    "        print(\"      *  \")\n",
    "    x=x+1    "
   ]
  },
  {
   "cell_type": "code",
   "execution_count": null,
   "id": "e6169aa5",
   "metadata": {},
   "outputs": [],
   "source": []
  }
 ],
 "metadata": {
  "kernelspec": {
   "display_name": "Python 3 (ipykernel)",
   "language": "python",
   "name": "python3"
  },
  "language_info": {
   "codemirror_mode": {
    "name": "ipython",
    "version": 3
   },
   "file_extension": ".py",
   "mimetype": "text/x-python",
   "name": "python",
   "nbconvert_exporter": "python",
   "pygments_lexer": "ipython3",
   "version": "3.11.3"
  }
 },
 "nbformat": 4,
 "nbformat_minor": 5
}
