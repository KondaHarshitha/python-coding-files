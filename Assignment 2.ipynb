{
 "cells": [
  {
   "cell_type": "markdown",
   "id": "f5f97f94",
   "metadata": {},
   "source": [
    "# 1. program to accept the two numbers from the user and calculate the multiplication and division"
   ]
  },
  {
   "cell_type": "code",
   "execution_count": 1,
   "id": "5443f5e4",
   "metadata": {},
   "outputs": [
    {
     "name": "stdout",
     "output_type": "stream",
     "text": [
      "enter any no.15\n",
      "enter any no.75\n",
      "multiplication of two no. 1125\n",
      "division of two no. 0.2\n"
     ]
    }
   ],
   "source": [
    "num1=int(input(\"enter any no.\"))\n",
    "num2=int(input(\"enter any no.\"))\n",
    "print(\"multiplication of two no.\",num1*num2)\n",
    "print (\"division of two no.\",num1/num2)"
   ]
  },
  {
   "cell_type": "markdown",
   "id": "4e8f04f0",
   "metadata": {},
   "source": [
    "# 12. program to accept two nunbers num1 and num2 and print true if one of them is 10 or sum is 10 else false"
   ]
  },
  {
   "cell_type": "code",
   "execution_count": 6,
   "id": "17d115a3",
   "metadata": {},
   "outputs": [
    {
     "name": "stdout",
     "output_type": "stream",
     "text": [
      "enter any no.8\n",
      "enter any no.6\n",
      "FALSE\n"
     ]
    }
   ],
   "source": [
    "num1=int(input(\"enter any no.\"))\n",
    "num2=int(input(\"enter any no.\"))\n",
    "if (num1+num2==10) or (num1==10) or(num2==10):\n",
    "    print(\"TRUE\")\n",
    "else:\n",
    "    print(\"FALSE\")"
   ]
  },
  {
   "cell_type": "markdown",
   "id": "f1700185",
   "metadata": {},
   "source": [
    "## 2.Write a python program to print the characters from a string that are present at an even index\n"
   ]
  },
  {
   "cell_type": "code",
   "execution_count": 37,
   "id": "dd484903",
   "metadata": {},
   "outputs": [
    {
     "name": "stdout",
     "output_type": "stream",
     "text": [
      "enter elements: pythoncoding\n",
      "p t o c d n "
     ]
    }
   ],
   "source": [
    "var=(input(\"enter elements: \"))\n",
    "for x in range (len(var)):\n",
    "     if x%2==0:\n",
    "         print(var[x],end=\" \")        \n"
   ]
  },
  {
   "cell_type": "markdown",
   "id": "66f88925",
   "metadata": {},
   "source": [
    "## 3.Write a python program to print the characters from a string that are present at an odd index\n"
   ]
  },
  {
   "cell_type": "code",
   "execution_count": 38,
   "id": "093074ba",
   "metadata": {},
   "outputs": [
    {
     "name": "stdout",
     "output_type": "stream",
     "text": [
      "enter elements: harshitha\n",
      "a s i h "
     ]
    }
   ],
   "source": [
    "var=(input(\"enter elements: \"))\n",
    "for x in range (len(var)):\n",
    "     if (x%2!=0):\n",
    "         print(var[x],end=\" \")\n"
   ]
  },
  {
   "cell_type": "markdown",
   "id": "dd96da26",
   "metadata": {},
   "source": [
    "## 4. program which will print sum of two no. if two no. are even otherwise difference"
   ]
  },
  {
   "cell_type": "code",
   "execution_count": 9,
   "id": "9eb10542",
   "metadata": {},
   "outputs": [
    {
     "name": "stdout",
     "output_type": "stream",
     "text": [
      "enter any no.2\n",
      "enter any no.6\n",
      "sum of two numbers:  4\n"
     ]
    }
   ],
   "source": [
    "num2=int(input(\"enter any no.\"))\n",
    "if (num1%2==0) and (num2%2==0):\n",
    "    print(\"sum of two numbers: \",num1+num1)\n",
    "else:\n",
    "    print(\"difference of two numbers: \",num1-num2)"
   ]
  },
  {
   "cell_type": "markdown",
   "id": "3e1714b2",
   "metadata": {},
   "source": [
    "# 5. Write a python program to convert all even indexed alphabets to upper and odd indexed char"
   ]
  },
  {
   "cell_type": "code",
   "execution_count": 6,
   "id": "522b16fc",
   "metadata": {},
   "outputs": [
    {
     "name": "stdout",
     "output_type": "stream",
     "text": [
      "enter any elements: lakshman\n",
      "L a K s H m A n "
     ]
    }
   ],
   "source": [
    "var= input(\"enter any elements: \")          \n",
    "for x in range(len(var)):\n",
    "    if (x%2==0):\n",
    "        print(var[x].upper(),end=\" \")\n",
    "    else:\n",
    "        print(var[x],end=\" \")"
   ]
  },
  {
   "cell_type": "markdown",
   "id": "97148454",
   "metadata": {},
   "source": [
    "## 6. Write a python program which will print True if the input number is divisible by 5 or else False"
   ]
  },
  {
   "cell_type": "code",
   "execution_count": 2,
   "id": "bab8c305",
   "metadata": {},
   "outputs": [
    {
     "name": "stdout",
     "output_type": "stream",
     "text": [
      "enter any no:  66\n",
      "FALSE\n"
     ]
    }
   ],
   "source": [
    "num1=int(input(\"enter any no:  \"))\n",
    "\n",
    "if (num1%5==0):\n",
    "    print(\"TRUE\")\n",
    "else:\n",
    "    print (\"FALSE\")\n"
   ]
  },
  {
   "cell_type": "markdown",
   "id": "cf3bde1e",
   "metadata": {},
   "source": [
    "## 7.Given two integer numbers return their product only if the product is greater than 1000, else return their sum"
   ]
  },
  {
   "cell_type": "code",
   "execution_count": 56,
   "id": "97dcd338",
   "metadata": {},
   "outputs": [
    {
     "name": "stdout",
     "output_type": "stream",
     "text": [
      "enter any no.50\n",
      "enter any no.5\n",
      "sum of two numbers:  55\n"
     ]
    }
   ],
   "source": [
    "int1=int(input(\"enter any no.\"))\n",
    "int2=int(input(\"enter any no.\"))\n",
    "\n",
    "if (int1*int2>1000):\n",
    "    print(\"Product of two numbers: \",int1*int2)\n",
    "else:\n",
    "    print(\"sum of two numbers: \", int1+int2)\n",
    "    "
   ]
  },
  {
   "cell_type": "markdown",
   "id": "a5826e2e",
   "metadata": {},
   "source": [
    "## 8. Given two strings x, y writes a program to return a new string made of x and y’s first, middle, and last characters"
   ]
  },
  {
   "cell_type": "code",
   "execution_count": 1,
   "id": "80cb83e5",
   "metadata": {},
   "outputs": [
    {
     "name": "stdout",
     "output_type": "stream",
     "text": [
      "enter the string 1: pytho\n",
      "enter the string 2: javas\n",
      "pjtvos\n"
     ]
    }
   ],
   "source": [
    "string1=input(\"enter the string 1: \")\n",
    "string2=input(\"enter the string 2: \")\n",
    "mid1=string1[len(string1)//2]\n",
    "mid2=string2[len(string2)//2]\n",
    "newstring=string1[0]+string2[0]+(mid1)+(mid2)+string1[-1]+string2[-1]\n",
    "print(newstring)"
   ]
  },
  {
   "cell_type": "markdown",
   "id": "f86655af",
   "metadata": {},
   "source": [
    "## 9. Write a python program to take three names as input from a user in the single input () function call\n"
   ]
  },
  {
   "cell_type": "code",
   "execution_count": 5,
   "id": "2e00f364",
   "metadata": {},
   "outputs": [
    {
     "name": "stdout",
     "output_type": "stream",
     "text": [
      "enter the three names:  Harshi Karthi Anshi\n",
      "name1=  Harshi\n",
      "name2=  Karthi\n",
      "name3=  Anshi\n"
     ]
    }
   ],
   "source": [
    "x,y,z=input(\"enter the three names:  \").split()\n",
    "print(\"name1= \",x)\n",
    "print(\"name2= \",y)\n",
    "print(\"name3= \",z)"
   ]
  },
  {
   "cell_type": "markdown",
   "id": "e970ef42",
   "metadata": {},
   "source": [
    "# 10.Write a Python program to get a string from a given string where all occurrences of its first char have been changed to '@', except the first char itself. "
   ]
  },
  {
   "cell_type": "code",
   "execution_count": null,
   "id": "de475439",
   "metadata": {},
   "outputs": [],
   "source": []
  },
  {
   "cell_type": "markdown",
   "id": "869e9830",
   "metadata": {},
   "source": [
    "# 11.program to add 'ing' at the end of a given string (string length should be equal to or more than 3). If   the given string already ends with 'ing' then add 'ly' instead. If the string length of the given string is less than 3,  leave it unchanged\n"
   ]
  },
  {
   "cell_type": "code",
   "execution_count": 11,
   "id": "526d1113",
   "metadata": {},
   "outputs": [
    {
     "name": "stdout",
     "output_type": "stream",
     "text": [
      "enter any string:  doing\n",
      "doingly\n"
     ]
    }
   ],
   "source": [
    "string=input(\"enter any string:  \")\n",
    "if (len(string)<3):\n",
    "    print(string)\n",
    "elif (string.endswith(\"ing\")):\n",
    "    print(string+\"ly\")\n",
    "else:\n",
    "    print(string+\"ing\")"
   ]
  },
  {
   "cell_type": "markdown",
   "id": "767d6fa2",
   "metadata": {},
   "source": [
    "## 13. program that accepts three inputs x, y and z print True if x*y>z otherwise False\n"
   ]
  },
  {
   "cell_type": "code",
   "execution_count": 64,
   "id": "98956483",
   "metadata": {},
   "outputs": [
    {
     "name": "stdout",
     "output_type": "stream",
     "text": [
      "enter x value: 2\n",
      "enter y value: 3\n",
      "enter z value: 9\n",
      "FALSE\n"
     ]
    }
   ],
   "source": [
    "x=int(input(\"enter x value: \"))\n",
    "y=int(input(\"enter y value: \"))\n",
    "z=int(input(\"enter z value: \"))\n",
    "if (x*y>z):\n",
    "    print(\" TRUE\")\n",
    "else:\n",
    "    print(\"FALSE\")\n",
    "    "
   ]
  },
  {
   "cell_type": "markdown",
   "id": "967f8292",
   "metadata": {},
   "source": [
    "## 14. program that accepts two strings inputs return True depending on whether the total number of characters in the first string is equal to the total number of characters in the second string"
   ]
  },
  {
   "cell_type": "code",
   "execution_count": 2,
   "id": "da51e354",
   "metadata": {},
   "outputs": [
    {
     "name": "stdout",
     "output_type": "stream",
     "text": [
      "enter any string1 :   harshi\n",
      "enter ant string2 :   karthi\n",
      "true\n"
     ]
    }
   ],
   "source": [
    "string1=input(\"enter any string1 :   \")\n",
    "string2=input(\"enter ant string2 :   \")\n",
    "if (len(string1)==len(string2)):\n",
    "    print(\"true\")\n",
    "else:\n",
    "    print(\"false\")"
   ]
  },
  {
   "cell_type": "markdown",
   "id": "c176de5a",
   "metadata": {},
   "source": [
    "## 15.Write a python program that takes a string input, we'll say that the front is the first three characters of the string. If the string length is less than three characters, the front is  whatever is there. Return a new string, which is three copies of the front"
   ]
  },
  {
   "cell_type": "code",
   "execution_count": null,
   "id": "ef12fbd1",
   "metadata": {},
   "outputs": [],
   "source": []
  },
  {
   "cell_type": "markdown",
   "id": "564d9aee",
   "metadata": {},
   "source": [
    "## 16Write a python program that takes in a word and determines whether or not it is plural. A plural word is one that ends in \"s\"."
   ]
  },
  {
   "cell_type": "code",
   "execution_count": 4,
   "id": "d12b9f65",
   "metadata": {},
   "outputs": [
    {
     "name": "stdout",
     "output_type": "stream",
     "text": [
      "enter the word:  apple\n",
      "not plural\n"
     ]
    }
   ],
   "source": [
    "word =input(\"enter the word:  \")\n",
    "if (word.endswith(\"s\")):\n",
    "    print(\"plural\")\n",
    "else:\n",
    "    print(\"not plural\")"
   ]
  },
  {
   "cell_type": "markdown",
   "id": "a6eb98f7",
   "metadata": {},
   "source": [
    "## 17.A bartender is writing a simple program to determine whether he should serve drinks to someone. He only serves drinks to people 18 and older and when he's not on break(True means break and False means not a break time). Given the person's age, and whether break time is in session, create a python program which prints whether he should serve drinks or not."
   ]
  },
  {
   "cell_type": "code",
   "execution_count": 2,
   "id": "6ee99478",
   "metadata": {},
   "outputs": [
    {
     "name": "stdout",
     "output_type": "stream",
     "text": [
      "enter the age 15\n",
      "is the bartender  on the break (yes or no):  no\n",
      "bartender cannot serve drinks\n"
     ]
    }
   ],
   "source": [
    "age=int(input(\"enter the age \"))\n",
    "server=input(\"is the bartender  on the break (yes or no):  \")\n",
    "if age>=18 and server==\"yes\":\n",
    "    print(\"bartender can serve drinks\")\n",
    "else:\n",
    "    print(\"bartender cannot serve drinks\")"
   ]
  },
  {
   "cell_type": "markdown",
   "id": "36d0dbb4",
   "metadata": {},
   "source": [
    "# 18. Manoj Kumar has family and friends. Help him remind them who is who. Given a string with a name, return the relation of that person to Manoj Kumar.\n",
    " # Person   Relation\n",
    " \n",
    " # Shiva    father\n",
    " # Letha    mother\n",
    " # Tarun    brother \n",
    " # Kavitha  sister\n"
   ]
  },
  {
   "cell_type": "code",
   "execution_count": 3,
   "id": "781f6cd6",
   "metadata": {},
   "outputs": [
    {
     "name": "stdout",
     "output_type": "stream",
     "text": [
      "enter person name:  kavitha\n",
      "sister\n"
     ]
    }
   ],
   "source": [
    "string=input (\"enter person name:  \")\n",
    "if (string==\"shiva\"):\n",
    "    print(\"father\")\n",
    "elif (string==\"letha\"):\n",
    "    print(\"mother\")\n",
    "elif (string==\"tarun\"):\n",
    "    print(\"brother\")\n",
    "else:\n",
    "    print(\"sister\")\n"
   ]
  },
  {
   "cell_type": "markdown",
   "id": "aa5446e7",
   "metadata": {},
   "source": [
    "## 19.Write a python program that takes a string, breaks it up and returns it with vowels first, consonants second. For any character that's not a vowel (like special characters or spaces), treat them like consonant"
   ]
  },
  {
   "cell_type": "code",
   "execution_count": null,
   "id": "c06d7a38",
   "metadata": {},
   "outputs": [],
   "source": []
  },
  {
   "cell_type": "markdown",
   "id": "5e612c3b",
   "metadata": {},
   "source": [
    "## 20.Create a dynamic calculator which asks for numbers and operator and return the answers"
   ]
  },
  {
   "cell_type": "code",
   "execution_count": 2,
   "id": "00d59914",
   "metadata": {},
   "outputs": [
    {
     "name": "stdout",
     "output_type": "stream",
     "text": [
      "enter num1: 33\n",
      "enter any symbol +,-,*,/: *\n",
      "enter num2: 88\n",
      "product of two numbers is 33*88=2904\n"
     ]
    }
   ],
   "source": [
    "num1=int(input(\"enter num1: \"))\n",
    "operator=input(\"enter any symbol +,-,*,/: \")\n",
    "num2=int(input(\"enter num2: \"))\n",
    "x=0         \n",
    "while x<=5 :\n",
    "    if (operator==\"+\"):\n",
    "        print(\" sum of two numbers is {}+{}={}\" .format(num1,num2,num1+num2))\n",
    "    elif (operator==\"-\"):\n",
    "        print(\"difference of two numbers is {}-{}={}\" .format(num1,num2,num1-num2))\n",
    "    elif (operator==\"*\"):\n",
    "        print(\"product of two numbers is {}*{}={}\" .format(num1,num2,num1*num2))  \n",
    "    else:\n",
    "        print(\"division of two numbers is {}/{}={}\" .format(num1,num2,num1/num2))  \n",
    "    break    \n",
    "      "
   ]
  },
  {
   "cell_type": "code",
   "execution_count": null,
   "id": "f8c761a3",
   "metadata": {},
   "outputs": [],
   "source": []
  }
 ],
 "metadata": {
  "kernelspec": {
   "display_name": "Python 3 (ipykernel)",
   "language": "python",
   "name": "python3"
  },
  "language_info": {
   "codemirror_mode": {
    "name": "ipython",
    "version": 3
   },
   "file_extension": ".py",
   "mimetype": "text/x-python",
   "name": "python",
   "nbconvert_exporter": "python",
   "pygments_lexer": "ipython3",
   "version": "3.11.3"
  }
 },
 "nbformat": 4,
 "nbformat_minor": 5
}
