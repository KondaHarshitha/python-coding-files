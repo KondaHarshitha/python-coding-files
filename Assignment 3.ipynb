{
 "cells": [
  {
   "cell_type": "markdown",
   "id": "001b4dd9",
   "metadata": {},
   "source": [
    "# 1. Write a Python program that prints all the numbers from 0 to 6 except 3 and 6"
   ]
  },
  {
   "cell_type": "code",
   "execution_count": 1,
   "id": "74f0b7a3",
   "metadata": {},
   "outputs": [
    {
     "name": "stdout",
     "output_type": "stream",
     "text": [
      "enter the starting number:  0\n",
      "enter the ending number:   6\n",
      "0 1 2 4 5 "
     ]
    }
   ],
   "source": [
    "num1=int(input(\"enter the starting number:  \"))\n",
    "num2=int(input(\"enter the ending number:   \"))\n",
    "for y in range (num1,num2):\n",
    "    if y==3:\n",
    "        continue\n",
    "    elif y==6:\n",
    "        continue\n",
    "    else:\n",
    "        print(y,end=\" \")"
   ]
  },
  {
   "cell_type": "markdown",
   "id": "d9643ef6",
   "metadata": {},
   "source": [
    "# 2.Write a program to accept a number from a user and calculate the sum of all numbers from 1 to a given number"
   ]
  },
  {
   "cell_type": "code",
   "execution_count": 12,
   "id": "b560e1f0",
   "metadata": {},
   "outputs": [
    {
     "name": "stdout",
     "output_type": "stream",
     "text": [
      "enter the number:  40\n",
      "sum is:   820\n"
     ]
    }
   ],
   "source": [
    "num=int(input(\"enter the number:  \"))\n",
    "x=1\n",
    "sum1=0\n",
    "while x<=num:\n",
    "    sum1=sum1+x\n",
    "    x=x+1\n",
    "print(\"sum is:  \",sum1)"
   ]
  },
  {
   "cell_type": "markdown",
   "id": "4fcd8203",
   "metadata": {},
   "source": [
    "# 3.Write a program to print multiplication table of a given number(input)"
   ]
  },
  {
   "cell_type": "code",
   "execution_count": 1,
   "id": "cd0a90b0",
   "metadata": {},
   "outputs": [
    {
     "name": "stdout",
     "output_type": "stream",
     "text": [
      "enter the ending value:   13\n",
      "13*1=13\n",
      "13*2=26\n",
      "13*3=39\n",
      "13*4=52\n",
      "13*5=65\n",
      "13*6=78\n",
      "13*7=91\n",
      "13*8=104\n",
      "13*9=117\n",
      "13*10=130\n"
     ]
    }
   ],
   "source": [
    "y=1\n",
    "num=int(input(\"enter the ending value:   \"))\n",
    "while y<=10: \n",
    "    print(\"{}*{}={}\" .format(num,y,num*y))\n",
    "    y=y+1"
   ]
  },
  {
   "cell_type": "markdown",
   "id": "c8babcb3",
   "metadata": {},
   "source": [
    "# 4.Write a program to count the total number of digits in a number using a while loop.\n",
    "   # For example, the number is 75869, so the output should be 5."
   ]
  },
  {
   "cell_type": "code",
   "execution_count": 1,
   "id": "a8e9d980",
   "metadata": {},
   "outputs": [
    {
     "name": "stdout",
     "output_type": "stream",
     "text": [
      "enter any numbers: 789\n",
      "number of digits : 3\n"
     ]
    }
   ],
   "source": [
    "number=int(input(\"enter any numbers: \"))\n",
    "count=0\n",
    "while number>0:\n",
    "    count=count+1\n",
    "    number=number//10\n",
    "print(\"number of digits :\",count)    "
   ]
  },
  {
   "cell_type": "markdown",
   "id": "f8f71436",
   "metadata": {},
   "source": [
    "# 5.Write a Python program to guess a number between 1 to \n",
    "\n",
    "# Example:User is prompted to enter a guess. If the user guesses wrong  then the prompt appears again until the guess is correct, on successful guess, user will get a \"Well guessed!\" message, and the program will exit"
   ]
  },
  {
   "cell_type": "code",
   "execution_count": 1,
   "id": "84910046",
   "metadata": {},
   "outputs": [
    {
     "name": "stdout",
     "output_type": "stream",
     "text": [
      "guess the number:  2\n",
      "guess the number:  11\n",
      "guess the number:  66\n",
      "guess the number:  78\n",
      "guess the number:  10\n",
      " \n",
      "well guessed!\n"
     ]
    }
   ],
   "source": [
    "while 24>12:\n",
    "   \n",
    "    guess_number=int(input(\"guess the number:  \"))\n",
    "    if guess_number==10:\n",
    "         print(\" \")\n",
    "         print(\"well guessed!\")\n",
    "         break"
   ]
  },
  {
   "cell_type": "markdown",
   "id": "2540c01c",
   "metadata": {},
   "source": [
    "# 6.Write a Python program which iterates the integers from 1 to 60. For multiples of three print \"Fizz\" instead of the number and for the multiples of five print \"Buzz\". For numbers which are multiples of both three and five print \"FizzBuzz\".\n"
   ]
  },
  {
   "cell_type": "code",
   "execution_count": 5,
   "id": "f5aebf3c",
   "metadata": {},
   "outputs": [
    {
     "name": "stdout",
     "output_type": "stream",
     "text": [
      "fizzBuzz 1 2 Fizz 4 Buzz Fizz 7 8 Fizz Buzz 11 Fizz 13 14 fizzBuzz 16 17 Fizz 19 Buzz Fizz 22 23 Fizz Buzz 26 Fizz 28 29 fizzBuzz 31 32 Fizz 34 Buzz Fizz 37 38 Fizz Buzz 41 Fizz 43 44 fizzBuzz 46 47 Fizz 49 Buzz Fizz 52 53 Fizz Buzz 56 Fizz 58 59 fizzBuzz "
     ]
    }
   ],
   "source": [
    "x=0\n",
    "while x<=60:\n",
    "    if x%3==0 and x%5==0:\n",
    "        print(\"fizzBuzz\",end=\" \")\n",
    "    elif x%5==0:\n",
    "        print(\"Buzz\",end=\" \")\n",
    "    elif x%3==0:\n",
    "        print(\"Fizz\",end=\" \")\n",
    "    else:\n",
    "        print(x,end=\" \")\n",
    "    x=x+1    "
   ]
  },
  {
   "cell_type": "markdown",
   "id": "c0713656",
   "metadata": {},
   "source": [
    "# 7.Write a Python program that accepts a string and calculate the number of digits and letters\n",
    "\n",
    "# Example:\n",
    "# Input\n",
    "# Python 3.2 \n",
    "# Output\n",
    "# Letters 6\n",
    "# Digits 2"
   ]
  },
  {
   "cell_type": "code",
   "execution_count": 3,
   "id": "09efdcb2",
   "metadata": {},
   "outputs": [
    {
     "name": "stdout",
     "output_type": "stream",
     "text": [
      "enter the string: konda.431\n",
      " \n",
      "the number of digits:  3\n",
      " \n",
      "the number of letters:  5\n"
     ]
    }
   ],
   "source": [
    "string=input(\"enter the string: \")\n",
    "count1=0\n",
    "count2=0\n",
    "for y in range(len(string)):\n",
    "    if string[y].isdigit():\n",
    "        count1=count1+1\n",
    "    elif string[y].isalpha():\n",
    "        count2=count2+1\n",
    "print(\" \")\n",
    "print(\"the number of digits: \",count1)\n",
    "print(\" \")\n",
    "print(\"the number of letters: \",count2)\n",
    "        "
   ]
  },
  {
   "cell_type": "markdown",
   "id": "e3f20551",
   "metadata": {},
   "source": [
    "# 8.Write a Python program to check the validity of password input by users. \n",
    "#   Validation:\n",
    "#   At least 1 letter between [a-z] and 1 letter between [A-Z].\n",
    "#   At least 1 number between [0-9]. \n",
    "#   At least 1 character from [$#@].\n",
    "#   Minimum length 6 characters.\n",
    "#   Maximum length 16 characters"
   ]
  },
  {
   "cell_type": "code",
   "execution_count": null,
   "id": "a70b2de1",
   "metadata": {},
   "outputs": [],
   "source": []
  },
  {
   "cell_type": "markdown",
   "id": "82f13387",
   "metadata": {},
   "source": [
    "# 9.Write a program in Python to reverse a word by using while loop"
   ]
  },
  {
   "cell_type": "code",
   "execution_count": 5,
   "id": "d5a7fa7a",
   "metadata": {},
   "outputs": [
    {
     "name": "stdout",
     "output_type": "stream",
     "text": [
      "enter the word:  Wajja Lakshmi\n",
      "the reverse word is:   imhskaL ajjaW\n"
     ]
    }
   ],
   "source": [
    "word=input(\"enter the word:  \")\n",
    "reverse=\"\"\n",
    "while len(word)>0:\n",
    "     char=word[-1]\n",
    "     word=word[0:-1]\n",
    "     reverse=reverse+char\n",
    "print(\"the reverse word is:  \",reverse)"
   ]
  },
  {
   "cell_type": "markdown",
   "id": "2b370669",
   "metadata": {},
   "source": [
    "# 10.Write a program which takes 10 integers as input using loop and print their average value on the screen"
   ]
  },
  {
   "cell_type": "code",
   "execution_count": null,
   "id": "6c73a04e",
   "metadata": {},
   "outputs": [],
   "source": []
  },
  {
   "cell_type": "markdown",
   "id": "c049c6cb",
   "metadata": {},
   "source": [
    "# 11.Write a program which takes integer inputs from user until he/she presses “q” (Ask to press q to quit after every integer input). Print average and product of all numbers.\n"
   ]
  },
  {
   "cell_type": "code",
   "execution_count": 10,
   "id": "aa51a9d5",
   "metadata": {},
   "outputs": [
    {
     "name": "stdout",
     "output_type": "stream",
     "text": [
      "enter the number:  4\n",
      "want to quit:  s\n",
      "enter the number:  5\n",
      "want to quit:  q\n",
      " \n",
      "average is:   4.5\n",
      "product is:   20\n"
     ]
    }
   ],
   "source": [
    "sum1=0 \n",
    "prod1=1\n",
    "count=0\n",
    "while 36>12:\n",
    "    num=int(input(\"enter the number:  \"))\n",
    "    sum1=sum1+num\n",
    "    prod1=prod1*num\n",
    "    count=count+1\n",
    "    quit=input(\"want to quit:  \")\n",
    "    if quit==\"q\":\n",
    "        break\n",
    "print(\" \")\n",
    "print(\"average is:  \",sum1/count)\n",
    "print(\"product is:  \",prod1)"
   ]
  },
  {
   "cell_type": "markdown",
   "id": "596dc08f",
   "metadata": {},
   "source": [
    "# 12.Write a Python program which will remove all digits or any other characters from the string except alphabets\n",
    "# Example:\n",
    "# Input:\n",
    "# “asd12.asd22”\n",
    "# Output:\n",
    "# 'asdasd'"
   ]
  },
  {
   "cell_type": "code",
   "execution_count": 3,
   "id": "320c3fb6",
   "metadata": {},
   "outputs": [
    {
     "name": "stdout",
     "output_type": "stream",
     "text": [
      "enter the string:   harshitha@431\n",
      "harshitha"
     ]
    }
   ],
   "source": [
    "string=input(\"enter the string:   \")\n",
    "for i in string:\n",
    "    if i.isalpha():\n",
    "        print(i,end=\"\")"
   ]
  },
  {
   "cell_type": "markdown",
   "id": "3af62f6c",
   "metadata": {},
   "source": [
    "# 13.Write a python program to find the sum of all even numbers from 0 to 10\n"
   ]
  },
  {
   "cell_type": "code",
   "execution_count": null,
   "id": "77e6e939",
   "metadata": {},
   "outputs": [],
   "source": []
  },
  {
   "cell_type": "markdown",
   "id": "cd052de7",
   "metadata": {},
   "source": [
    "# 14.) Write a python program which will accept a digit and print\n",
    "# All the numbers before it till 0\n",
    "# Example:\n",
    "# Input: \n",
    "# 5\n",
    "# Output:\n",
    "# 4\n",
    "# 3\n",
    "# 2\n",
    "# 1\n",
    "# 0"
   ]
  },
  {
   "cell_type": "code",
   "execution_count": 6,
   "id": "13477c83",
   "metadata": {},
   "outputs": [
    {
     "name": "stdout",
     "output_type": "stream",
     "text": [
      "enter the digit:  5\n",
      "4\n",
      "3\n",
      "2\n",
      "1\n",
      "0\n"
     ]
    }
   ],
   "source": [
    "digit=int(input(\"enter the digit:  \"))\n",
    "while digit>=1:\n",
    "    digit=digit-1\n",
    "    print(digit)"
   ]
  },
  {
   "cell_type": "markdown",
   "id": "e4b53aa6",
   "metadata": {},
   "source": [
    "# 15.Create a dynamic calculator which will run continually till you press \"c\""
   ]
  },
  {
   "cell_type": "code",
   "execution_count": 2,
   "id": "7b74cf82",
   "metadata": {},
   "outputs": [
    {
     "name": "stdout",
     "output_type": "stream",
     "text": [
      "enter num1: 6\n",
      "enter any symbol +,-,*,/: -\n",
      "enter num2: 2\n",
      "difference of two numbers is 6-2=4\n",
      "want to quit(quit):  no\n",
      "enter num1: 6\n",
      "enter any symbol +,-,*,/: *\n",
      "enter num2: 7\n",
      "product of two numbers is 6*7=42\n",
      "want to quit(quit):  c\n"
     ]
    }
   ],
   "source": [
    "x=0\n",
    "while (x<=5):\n",
    "    num1=int(input(\"enter num1: \"))\n",
    "    operator=input(\"enter any symbol +,-,*,/: \")\n",
    "    num2=int(input(\"enter num2: \"))\n",
    "    if (operator==\"+\"):\n",
    "        print(\" sum of two numbers is {}+{}={}\" .format(num1,num2,num1+num2))\n",
    "    elif (operator==\"-\"):\n",
    "        print(\"difference of two numbers is {}-{}={}\" .format(num1,num2,num1-num2))\n",
    "    elif (operator==\"*\"):\n",
    "        print(\"product of two numbers is {}*{}={}\" .format(num1,num2,num1*num2))  \n",
    "    else:\n",
    "        print(\"division of two numbers is {}/{}={}\" .format(num1,num2,num1/num2))  \n",
    "    q =input(\"want to quit(quit):  \")\n",
    "    if q ==\"c\":\n",
    "        break"
   ]
  },
  {
   "cell_type": "code",
   "execution_count": null,
   "id": "0979cae5",
   "metadata": {},
   "outputs": [],
   "source": []
  }
 ],
 "metadata": {
  "kernelspec": {
   "display_name": "Python 3 (ipykernel)",
   "language": "python",
   "name": "python3"
  },
  "language_info": {
   "codemirror_mode": {
    "name": "ipython",
    "version": 3
   },
   "file_extension": ".py",
   "mimetype": "text/x-python",
   "name": "python",
   "nbconvert_exporter": "python",
   "pygments_lexer": "ipython3",
   "version": "3.11.3"
  }
 },
 "nbformat": 4,
 "nbformat_minor": 5
}
