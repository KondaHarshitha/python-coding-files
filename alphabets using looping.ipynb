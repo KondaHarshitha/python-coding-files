{
 "cells": [
  {
   "cell_type": "markdown",
   "id": "b85e129b",
   "metadata": {},
   "source": [
    "  # python program to print lower case alphabets (a-z) with conditional statement\n",
    "\n",
    "  "
   ]
  },
  {
   "cell_type": "code",
   "execution_count": 1,
   "id": "bc3f98d3",
   "metadata": {},
   "outputs": [
    {
     "name": "stdout",
     "output_type": "stream",
     "text": [
      "a b c d e f g h i j k l m n o p q r s t u v w x y z "
     ]
    }
   ],
   "source": [
    "x=ord(\"a\")\n",
    "if x<=ord(\"z\"):\n",
    "    while x<=ord(\"z\"):\n",
    "        print(chr(x),end=\" \")\n",
    "        x=x+1\n",
    "    "
   ]
  },
  {
   "cell_type": "markdown",
   "id": "edafbd07",
   "metadata": {},
   "source": [
    "# Create a python program to print lower & upper case alphabets with looping concepts (while loop and for loop)\n",
    "\n"
   ]
  },
  {
   "cell_type": "code",
   "execution_count": 20,
   "id": "53855418",
   "metadata": {},
   "outputs": [
    {
     "name": "stdout",
     "output_type": "stream",
     "text": [
      " lower case \n",
      "a b c d e f g h i j k l m n o p q r s t u v w x y z  \n",
      " upper case\n",
      "A B C D E F G H I J K L M N O P Q R S T U V W X Y Z "
     ]
    }
   ],
   "source": [
    "x=ord(\"a\")\n",
    "print(\" lower case \")\n",
    "while x<=ord(\"z\"):\n",
    "        print(chr(x),end=\" \")\n",
    "        x+=1\n",
    "print(\" \")\n",
    "        \n",
    "    \n",
    "y=ord(\"A\")\n",
    "print(\" upper case\")\n",
    "while y<=ord(\"Z\"):\n",
    "        print(chr(y),end=\" \")\n",
    "        y+=1\n",
    "   \n",
    "\n",
    "        "
   ]
  },
  {
   "cell_type": "code",
   "execution_count": null,
   "id": "ef9d2bdb",
   "metadata": {},
   "outputs": [],
   "source": []
  }
 ],
 "metadata": {
  "kernelspec": {
   "display_name": "Python 3 (ipykernel)",
   "language": "python",
   "name": "python3"
  },
  "language_info": {
   "codemirror_mode": {
    "name": "ipython",
    "version": 3
   },
   "file_extension": ".py",
   "mimetype": "text/x-python",
   "name": "python",
   "nbconvert_exporter": "python",
   "pygments_lexer": "ipython3",
   "version": "3.11.3"
  }
 },
 "nbformat": 4,
 "nbformat_minor": 5
}
