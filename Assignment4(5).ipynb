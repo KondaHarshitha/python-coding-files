{
 "cells": [
  {
   "cell_type": "markdown",
   "id": "1395837a",
   "metadata": {},
   "source": [
    "# 1.Given a list of numbers, write a python program that returns a new list which Has all duplicate elements removed. And is sorted in an increasing order.\n",
    " "
   ]
  },
  {
   "cell_type": "code",
   "execution_count": 3,
   "id": "e99353a0",
   "metadata": {},
   "outputs": [
    {
     "name": "stdout",
     "output_type": "stream",
     "text": [
      "enter the list: 23 4 5 67 67 2 4 66 23 9 5 4 39\n",
      "\n",
      "the sorted list: ['2', '23', '39', '4', '5', '66', '67', '9']\n"
     ]
    }
   ],
   "source": [
    "list1=input(\"enter the list: \").split()\n",
    "set1=set()\n",
    "for x in list1:\n",
    "    set1.add(x)\n",
    "\n",
    "newlist=list(set1)\n",
    "newlist.sort()\n",
    "\n",
    "print(\"\")\n",
    "print(\"the sorted list:\",newlist)"
   ]
  },
  {
   "cell_type": "markdown",
   "id": "35feca82",
   "metadata": {},
   "source": [
    "# 2.Write a Python program where you will iterate over both keys and values in dictionaries"
   ]
  },
  {
   "cell_type": "code",
   "execution_count": 5,
   "id": "55fa465f",
   "metadata": {},
   "outputs": [
    {
     "name": "stdout",
     "output_type": "stream",
     "text": [
      "no of elements: 3\n",
      "enter the list: 1 harshi\n",
      "enter the list: 2 anshi\n",
      "enter the list: 3 sudheer\n",
      "('1', 'harshi')\n",
      "('2', 'anshi')\n",
      "('3', 'sudheer')\n"
     ]
    }
   ],
   "source": [
    "dictionary={}\n",
    "n=int(input(\"no of elements: \"))\n",
    "for i in range(n):\n",
    "    key,value=(input(\"enter the list: \").split())\n",
    "    dictionary[key]=value\n",
    "for i in dictionary.items():\n",
    "    print(i)"
   ]
  },
  {
   "cell_type": "markdown",
   "id": "e03c3a4b",
   "metadata": {},
   "source": [
    "# 3. Write a Python program that takes a dictionary of student names and returns a list of student names in alphabetical order\n",
    "# Ex:Input: {“Student 1”: \"Tarun\", \"Student 2”: \"Manoj\", \"Student 3”: \"Gephi”}\n",
    "# Output: [“Gephi”,” Manoj”,” Tarun”]\n"
   ]
  },
  {
   "cell_type": "code",
   "execution_count": null,
   "id": "951bc105",
   "metadata": {},
   "outputs": [],
   "source": []
  },
  {
   "cell_type": "markdown",
   "id": "753f0870",
   "metadata": {},
   "source": [
    "# 4. Write a Python which returns a new list of Booleans, from a given number. Iterating through the number one digit at a time, append True if the digit is 1 and False if it is 0.\n",
    "# Ex:Input: “01001”\n",
    "# Output: [“False”, “True”, “False”,” False”,” True”]\n"
   ]
  },
  {
   "cell_type": "code",
   "execution_count": 5,
   "id": "e48e18df",
   "metadata": {},
   "outputs": [
    {
     "name": "stdout",
     "output_type": "stream",
     "text": [
      "enter the number: 11001100\n",
      "\n",
      "new list is: [True, True, False, False, True, True, False, False]\n"
     ]
    }
   ],
   "source": [
    "list1=[]\n",
    "n=input(\"enter the number: \")\n",
    "for i in n:\n",
    "    i=int(i)\n",
    "    if i==1:\n",
    "        list1.append(True)\n",
    "    elif i==0:\n",
    "        list1.append(False)\n",
    "print(\"\")\n",
    "print(\"new list is:\",list1)"
   ]
  },
  {
   "cell_type": "markdown",
   "id": "3ff9354d",
   "metadata": {},
   "source": [
    "# 5. Write a Python program where you will return a dictionary where the keys will be the character and the values will be the occurrence of the character in the string, and it should for any string inputs (dynamic)\n",
    "# Ex:Input: “my name is ame”\n",
    "# Output: {“m”:3,” y”:1,” n”:1,” a”:2,” e”:2,” i”:1,” s”:1}\n"
   ]
  },
  {
   "cell_type": "code",
   "execution_count": 4,
   "id": "4cf9a88a",
   "metadata": {},
   "outputs": [
    {
     "name": "stdout",
     "output_type": "stream",
     "text": [
      "enter the string: harshianshi\n",
      "{'h': 3, 'a': 2, 'r': 1, 's': 2, 'i': 2, 'n': 1}\n"
     ]
    }
   ],
   "source": [
    "d={}\n",
    "n=input(\"enter the string: \")\n",
    "for i in n:\n",
    "    if i not in d:\n",
    "        d[i]=1\n",
    "    else:\n",
    "        d[i]=d[i]+1\n",
    "print(d)"
   ]
  },
  {
   "cell_type": "markdown",
   "id": "0839424e",
   "metadata": {},
   "source": [
    "# 6. Given a dictionary containing the names and ages of a group of people, return the name of the oldest person\n",
    "# Ex:Input: {\"Tmma\": 41, \"Ackes\": 45, \"myna\": 15, \"Benthon\": 29}\n",
    "# Output: “Ackes”\n"
   ]
  },
  {
   "cell_type": "code",
   "execution_count": null,
   "id": "386be41f",
   "metadata": {},
   "outputs": [],
   "source": []
  },
  {
   "cell_type": "markdown",
   "id": "2555b9ad",
   "metadata": {},
   "source": [
    "# 7. Write a Python program to create a Rock, Paper, Scissor game, use two inputs for two players:\n",
    "# Conditions: -Rock beats Scissors, Scissors beats Paper, Paper beats Rock"
   ]
  },
  {
   "cell_type": "code",
   "execution_count": 7,
   "id": "39ab2ec4",
   "metadata": {},
   "outputs": [
    {
     "name": "stdout",
     "output_type": "stream",
     "text": [
      "enter Rock OR Paper OR Scissors: rock\n",
      "enter Rock OR Paper OR Scissors: paper\n",
      "            player2 wins\n"
     ]
    }
   ],
   "source": [
    "player1=input(\"enter Rock OR Paper OR Scissors: \")\n",
    "player2=input(\"enter Rock OR Paper OR Scissors: \")\n",
    "if((player1==\"rock\") and (player2==\"scissors\")) or (player1==\"scissors\") and (player2==\"paper\") or (player1==\"paper\") and (player2==\"rock\"):\n",
    "    print(\"player1 wins\")\n",
    "elif((player1==\"scissors\") and (player2==\"rock\")) or (player1==\"paper\") and (player2==\"scissors\") or (player1==\"rock\") and (player2==\"paper\"):\n",
    "    print(\"            player2 wins\")\n",
    "else:\n",
    "    print(\"both are same, play again\")"
   ]
  },
  {
   "cell_type": "markdown",
   "id": "7d6cb341",
   "metadata": {},
   "source": [
    "# 8. Create a program that returns a list of items that you can afford in the store with the money you have in your wallet. Create a dictionary with items as key and price as values\n",
    "# Ex:Input: {“water bottles”: “20”,” chips”:10,” Iphone”;49000“,” towel”:90,” pens”:58,” cake”;400}Your wallet balance: -50\n",
    "# Output: [“water bottles”, “chips”]\n"
   ]
  },
  {
   "cell_type": "code",
   "execution_count": null,
   "id": "c351cd19",
   "metadata": {},
   "outputs": [],
   "source": []
  },
  {
   "cell_type": "markdown",
   "id": "e55d8477",
   "metadata": {},
   "source": [
    "# 9.Write a Python program to create a union of sets\n"
   ]
  },
  {
   "cell_type": "code",
   "execution_count": 2,
   "id": "5a0fd584",
   "metadata": {},
   "outputs": [
    {
     "name": "stdout",
     "output_type": "stream",
     "text": [
      "enter set1: 23 abc 2.4 2+6j\n",
      "enter set2: 6 ha 66 ja\n"
     ]
    },
    {
     "data": {
      "text/plain": [
       "{'2+6j', '2.4', '23', '6', '66', 'abc', 'ha', 'ja'}"
      ]
     },
     "execution_count": 2,
     "metadata": {},
     "output_type": "execute_result"
    }
   ],
   "source": [
    "s1=set(input(\"enter set1: \").split())\n",
    "s2=set(input(\"enter set2: \").split())\n",
    "s1.union(s2)"
   ]
  },
  {
   "cell_type": "markdown",
   "id": "3b2d959a",
   "metadata": {},
   "source": [
    "# 10. Write a Python program to check if a given value is present in a set or not(Dynamic)\n"
   ]
  },
  {
   "cell_type": "code",
   "execution_count": 2,
   "id": "86d62653",
   "metadata": {},
   "outputs": [
    {
     "name": "stdout",
     "output_type": "stream",
     "text": [
      "enter set1: 2 4 9 5 73\n",
      "{'9', '5', '4', '2', '73'}\n",
      "enter the number to check: 66\n",
      "\n",
      "given value is not present in the set\n"
     ]
    }
   ],
   "source": [
    "s1=set(input(\"enter set1: \").split())\n",
    "print(s1)\n",
    "k=input(\"enter the number to check: \")\n",
    "print(\"\")\n",
    "if k in s1:\n",
    "    print(\"given value is present in the set\")\n",
    "else:\n",
    "    print(\"given value is not present in the set\")"
   ]
  },
  {
   "cell_type": "markdown",
   "id": "d5cd3903",
   "metadata": {},
   "source": [
    "# 11. Write a Python program to find the occurrences of 3 most common words in a given text. And make it as a dictionaries\n",
    "# Ex:Input:” Cat dog dog cat horse dog dog mouse horse dog mouse tiger lion tiger cat mouse snail”\n",
    "# Output: (“dog”:5,”cat”:3,” mouse”;3)"
   ]
  },
  {
   "cell_type": "code",
   "execution_count": null,
   "id": "ce9560b7",
   "metadata": {},
   "outputs": [],
   "source": []
  },
  {
   "cell_type": "markdown",
   "id": "a90391fd",
   "metadata": {},
   "source": [
    "# 12. Write a Python program that accepts name of given subject and mark, and make subjects as keys in dictionaries and marks as values and print the finaldictionary with subjects and marks"
   ]
  },
  {
   "cell_type": "code",
   "execution_count": 1,
   "id": "31cb780b",
   "metadata": {},
   "outputs": [
    {
     "name": "stdout",
     "output_type": "stream",
     "text": [
      "   no of Subjects: 3\n",
      "enter the Subject: math\n",
      "   enter the Marks: 66\n",
      "enter the Subject: eng\n",
      "   enter the Marks: 88\n",
      "enter the Subject: science\n",
      "   enter the Marks: 99\n",
      "{'math': 66, 'eng': 88, 'science': 99}\n"
     ]
    }
   ],
   "source": [
    "dictionary={}\n",
    "n=int(input(\"   no of Subjects: \"))\n",
    "for i in range(n):\n",
    "    key=input(\"enter the Subject: \")\n",
    "    values=int(input(\"   enter the Marks: \"))\n",
    "    dictionary[key]=values\n",
    "print(dictionary)"
   ]
  },
  {
   "cell_type": "code",
   "execution_count": null,
   "id": "3241d03f",
   "metadata": {},
   "outputs": [],
   "source": [
    "\n",
    "   enter the Marks: 99"
   ]
  }
 ],
 "metadata": {
  "kernelspec": {
   "display_name": "Python 3 (ipykernel)",
   "language": "python",
   "name": "python3"
  },
  "language_info": {
   "codemirror_mode": {
    "name": "ipython",
    "version": 3
   },
   "file_extension": ".py",
   "mimetype": "text/x-python",
   "name": "python",
   "nbconvert_exporter": "python",
   "pygments_lexer": "ipython3",
   "version": "3.11.4"
  }
 },
 "nbformat": 4,
 "nbformat_minor": 5
}
