{
 "cells": [
  {
   "cell_type": "markdown",
   "id": "3764bb0b",
   "metadata": {},
   "source": [
    "# 1. Write a Python program to loop through all the elements in a list\n",
    "# Ex:Input: [1,2,3,4,5,6]\n",
    "# Output:\n",
    "# 1\n",
    "# 2\n",
    "# 3\n",
    "# 4\n",
    "# 5\n",
    "# 6\n"
   ]
  },
  {
   "cell_type": "code",
   "execution_count": 1,
   "id": "d80a1d58",
   "metadata": {},
   "outputs": [
    {
     "name": "stdout",
     "output_type": "stream",
     "text": [
      "enter the list1:  123456\n",
      "1\n",
      "2\n",
      "3\n",
      "4\n",
      "5\n",
      "6\n"
     ]
    }
   ],
   "source": [
    "list1=list((input(\"enter the list1:  \")))\n",
    "for i in list1:\n",
    "    print(i)"
   ]
  },
  {
   "cell_type": "markdown",
   "id": "56ab71fe",
   "metadata": {},
   "source": [
    "# 2. Write a Python program where you will ask the users to insert elements in a list\n"
   ]
  },
  {
   "cell_type": "code",
   "execution_count": 1,
   "id": "602498b4",
   "metadata": {},
   "outputs": [
    {
     "name": "stdout",
     "output_type": "stream",
     "text": [
      "enter the elements:  1233\n",
      "1233\n"
     ]
    }
   ],
   "source": [
    "x=[]\n",
    "list1=input(\"enter the elements:  \")\n",
    "for i in range(len(list1)):\n",
    "    x.append(list1[i])\n",
    "print(list1)"
   ]
  },
  {
   "cell_type": "markdown",
   "id": "e528beb5",
   "metadata": {},
   "source": [
    "# 3. Write a Python program to remove all the odd index value from a list and only evenindex elements should remain\n",
    "# Ex:Input: [1,2,3,4,5,6,7,”a”]\n",
    "# Output: [1,3,5,7]"
   ]
  },
  {
   "cell_type": "code",
   "execution_count": 8,
   "id": "3a21c428",
   "metadata": {},
   "outputs": [
    {
     "name": "stdout",
     "output_type": "stream",
     "text": [
      "enter the elements: 1234567a\n",
      "1 3 5 7 "
     ]
    }
   ],
   "source": [
    "list1=list(input(\"enter the elements: \"))\n",
    "for i in range(0,len(list1)):\n",
    "    if i%2==0:\n",
    "        print(list1[i],end=\" \")\n",
    "    "
   ]
  },
  {
   "cell_type": "markdown",
   "id": "0bfb24b3",
   "metadata": {},
   "source": [
    "# 4. Write a Python program to sum and multiply all the items in a list\n",
    "# Ex:Input: [1,2,3,4]\n",
    "# Output: sum: -10\n",
    "# Product: -24 "
   ]
  },
  {
   "cell_type": "code",
   "execution_count": 4,
   "id": "2ee0fbb6",
   "metadata": {},
   "outputs": [
    {
     "name": "stdout",
     "output_type": "stream",
     "text": [
      "enter the elements:  1 2 3 4\n",
      "sum of the list1:  10\n",
      "prod of list1:   24\n"
     ]
    }
   ],
   "source": [
    "sum=0\n",
    "product=1\n",
    "list1=input(\"enter the elements:  \").split()\n",
    "for x in list1:\n",
    "    sum=sum+int(x)\n",
    "    product=product*int(x)\n",
    "print(\"sum of the list1: \",sum)\n",
    "print(\"prod of list1:  \",product)\n",
    "    "
   ]
  },
  {
   "cell_type": "markdown",
   "id": "3c6f895f",
   "metadata": {},
   "source": [
    "# 5. Write a Python program to get the maximum and minimum numbers from a list\n",
    "# Ex:Input: [8,4,11,7,90]\n",
    "# Output: max: - 90\n",
    "#        Min: - 4"
   ]
  },
  {
   "cell_type": "code",
   "execution_count": 5,
   "id": "0c03d29d",
   "metadata": {},
   "outputs": [
    {
     "name": "stdout",
     "output_type": "stream",
     "text": [
      "enter the input: 22 44 12 66 \n",
      "max:   66\n",
      "min:   12\n"
     ]
    }
   ],
   "source": [
    "input1=input(\"enter the input: \").split()\n",
    "if len(input1)>0:\n",
    "    input1.sort()\n",
    "    print(\"max:  \",input1[-1])\n",
    "    print(\"min:  \",input1[0])"
   ]
  },
  {
   "cell_type": "markdown",
   "id": "0db3c9ba",
   "metadata": {},
   "source": [
    "#### 6. Write a Python program to print a specified list after removing the 0th, 4th and 5thelements.\n",
    "# Ex:Input: ['Red', 'Green', 'White', 'Black', 'Pink', 'Yellow']\n",
    "# Output: ['Green', 'White', 'Black']"
   ]
  },
  {
   "cell_type": "code",
   "execution_count": 5,
   "id": "6c09f23d",
   "metadata": {},
   "outputs": [
    {
     "name": "stdout",
     "output_type": "stream",
     "text": [
      "enter the elements: red green harshi anshi 56 88 22 73\n",
      "['green', 'harshi', 'anshi', '22', '73']\n"
     ]
    }
   ],
   "source": [
    "list1=(input(\"enter the elements: \").split())\n",
    "newlist1=[]\n",
    "for i in list1:\n",
    "    if i==list1[0] or i==list1[4] or i==list1[5]:\n",
    "        continue\n",
    "    else:    \n",
    "        newlist1.append(i)\n",
    "print(newlist1)    "
   ]
  },
  {
   "cell_type": "markdown",
   "id": "4b8506d8",
   "metadata": {},
   "source": [
    "# 7. Write a Python program to convert a list of characters into a string\n"
   ]
  },
  {
   "cell_type": "code",
   "execution_count": 15,
   "id": "5aca43c3",
   "metadata": {},
   "outputs": [
    {
     "name": "stdout",
     "output_type": "stream",
     "text": [
      "enter the elements:  k o n d a harshitha r e dd y\n",
      " kondaharshithareddy\n"
     ]
    }
   ],
   "source": [
    "string=input(\"enter the elements:  \").split()\n",
    "n=\" \"\n",
    "for i in string:\n",
    "    n=n+i\n",
    "print(n)    "
   ]
  },
  {
   "cell_type": "markdown",
   "id": "385eba54",
   "metadata": {},
   "source": [
    "# 8. Write a Python program to compute average of given lists."
   ]
  },
  {
   "cell_type": "code",
   "execution_count": 25,
   "id": "c28b34ed",
   "metadata": {},
   "outputs": [
    {
     "name": "stdout",
     "output_type": "stream",
     "text": [
      "enter the digits:  1 2 3 4 \n",
      "average:  2.5\n"
     ]
    }
   ],
   "source": [
    "list1=(input(\"enter the digits:  \")).split()\n",
    "sum1=0\n",
    "for i in list1:\n",
    "    sum1=sum1+int(i)\n",
    "average=sum1/len(list1)\n",
    "print(\"average: \",average)      "
   ]
  },
  {
   "cell_type": "markdown",
   "id": "963ab618",
   "metadata": {},
   "source": [
    "# 9. Write a Python program to count integer in a given mixed list.\n",
    "# Ex:Input: [10, “a”,2,3,5.5,1.34,” Abc”,” rt”]\n",
    "# Output: Number of integers in the list: 5"
   ]
  },
  {
   "cell_type": "code",
   "execution_count": 2,
   "id": "3c509b1e",
   "metadata": {},
   "outputs": [
    {
     "name": "stdout",
     "output_type": "stream",
     "text": [
      "enter the elements:  hhh 655  78 98 gjhb \n",
      "3\n"
     ]
    }
   ],
   "source": [
    "\n",
    "list1=(input(\"enter the elements:  \")).split()\n",
    "count=0\n",
    "for i in list1:\n",
    "        if i.isdigit():\n",
    "            count=count+1\n",
    "print(count)"
   ]
  },
  {
   "cell_type": "markdown",
   "id": "afde9be4",
   "metadata": {},
   "source": [
    "# 10. Write a Python program to reverse the list"
   ]
  },
  {
   "cell_type": "code",
   "execution_count": 13,
   "id": "6f1f9412",
   "metadata": {},
   "outputs": [],
   "source": [
    "x=[\"h\",\"a\",\"r\",\"s\",\"h\",\"i\",\"@\"]\n",
    "x.reverse()"
   ]
  },
  {
   "cell_type": "code",
   "execution_count": 14,
   "id": "9e4fcd13",
   "metadata": {},
   "outputs": [
    {
     "data": {
      "text/plain": [
       "['@', 'i', 'h', 's', 'r', 'a', 'h']"
      ]
     },
     "execution_count": 14,
     "metadata": {},
     "output_type": "execute_result"
    }
   ],
   "source": [
    "x"
   ]
  },
  {
   "cell_type": "markdown",
   "id": "7207e550",
   "metadata": {},
   "source": [
    "# 11. Write a Python program convert a given string to a tuple\n",
    "# Ex:Input: “python1.2”\n",
    "# Output: (“p”,” y”,”t”,”h”,” o”,” n”,”1”,”.”,”2”) "
   ]
  },
  {
   "cell_type": "code",
   "execution_count": 22,
   "id": "c33b8c7a",
   "metadata": {},
   "outputs": [
    {
     "name": "stdout",
     "output_type": "stream",
     "text": [
      "enter the elements:  p y t h o n 1.2\n"
     ]
    },
    {
     "data": {
      "text/plain": [
       "('p', 'y', 't', 'h', 'o', 'n', '1.2')"
      ]
     },
     "execution_count": 22,
     "metadata": {},
     "output_type": "execute_result"
    }
   ],
   "source": [
    "list1=input(\"enter the elements:  \").split()\n",
    "tuple(list1)"
   ]
  },
  {
   "cell_type": "code",
   "execution_count": 23,
   "id": "d7c8d194",
   "metadata": {},
   "outputs": [
    {
     "data": {
      "text/plain": [
       "list"
      ]
     },
     "execution_count": 23,
     "metadata": {},
     "output_type": "execute_result"
    }
   ],
   "source": [
    "type(list1)"
   ]
  },
  {
   "cell_type": "code",
   "execution_count": null,
   "id": "74588fa2",
   "metadata": {},
   "outputs": [],
   "source": []
  }
 ],
 "metadata": {
  "kernelspec": {
   "display_name": "Python 3 (ipykernel)",
   "language": "python",
   "name": "python3"
  },
  "language_info": {
   "codemirror_mode": {
    "name": "ipython",
    "version": 3
   },
   "file_extension": ".py",
   "mimetype": "text/x-python",
   "name": "python",
   "nbconvert_exporter": "python",
   "pygments_lexer": "ipython3",
   "version": "3.11.4"
  }
 },
 "nbformat": 4,
 "nbformat_minor": 5
}
