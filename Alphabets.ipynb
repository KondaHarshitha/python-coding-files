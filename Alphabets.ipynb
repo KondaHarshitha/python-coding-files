{
 "cells": [
  {
   "cell_type": "code",
   "execution_count": 4,
   "id": "9a8ddbf3",
   "metadata": {},
   "outputs": [
    {
     "name": "stdout",
     "output_type": "stream",
     "text": [
      "#####\n",
      "#   #\n",
      "# # #\n",
      "#   #\n",
      "#   #\n"
     ]
    }
   ],
   "source": [
    "x=1\n",
    "while x<=5:\n",
    "    if x==1:\n",
    "        print(\"#####\")\n",
    "    elif x==2 or x==4 or x==5:\n",
    "        print(\"#   #\")\n",
    "    else :\n",
    "        print(\"# # #\")\n",
    "    x=x+1"
   ]
  },
  {
   "cell_type": "code",
   "execution_count": 211,
   "id": "88e42340",
   "metadata": {},
   "outputs": [
    {
     "name": "stdout",
     "output_type": "stream",
     "text": [
      "#####\n",
      "#     #\n",
      "#####\n",
      "#     #\n",
      "#####\n"
     ]
    }
   ],
   "source": [
    "x=1\n",
    "while x<=5:\n",
    "    if x==1 or x==5 or x==3:\n",
    "        print(\"#####\")\n",
    "    elif x==2 or x==4:\n",
    "        print(\"#     #\")\n",
    "    x=x+1\n",
    "    "
   ]
  },
  {
   "cell_type": "code",
   "execution_count": 14,
   "id": "2119f456",
   "metadata": {},
   "outputs": [
    {
     "name": "stdout",
     "output_type": "stream",
     "text": [
      "#####\n",
      "#\n",
      "#\n",
      "#\n",
      "#####\n"
     ]
    }
   ],
   "source": [
    "x=1\n",
    "while x<=5:\n",
    "    if x==1 or x==5:\n",
    "        print(\"#####\")\n",
    "    elif x==2 or x==3 or x==4:\n",
    "        print(\"#\")\n",
    "    x=x+1    "
   ]
  },
  {
   "cell_type": "code",
   "execution_count": 72,
   "id": "fc0a6a9b",
   "metadata": {},
   "outputs": [
    {
     "name": "stdout",
     "output_type": "stream",
     "text": [
      "# # #\n",
      "#    #\n",
      "#    #\n",
      "#    #\n",
      "# # #\n"
     ]
    }
   ],
   "source": [
    "x=1\n",
    "while x<=5:\n",
    "    if x==1 or x==5:\n",
    "        print(\"# # #\")\n",
    "    elif x==2 or x==3 or x==4:\n",
    "        print(\"#    #\")\n",
    "    \n",
    "    x=x+1    "
   ]
  },
  {
   "cell_type": "code",
   "execution_count": 19,
   "id": "63e307d0",
   "metadata": {},
   "outputs": [
    {
     "name": "stdout",
     "output_type": "stream",
     "text": [
      "#####\n",
      "#\n",
      "#####\n",
      "#\n",
      "#####\n"
     ]
    }
   ],
   "source": [
    "x=1\n",
    "while x<=5:\n",
    "    if x==1 or x==5 or x==3:\n",
    "        print(\"#####\")\n",
    "    elif x==2 or x==4:\n",
    "        print(\"#\")\n",
    "    x=x+1    "
   ]
  },
  {
   "cell_type": "code",
   "execution_count": 24,
   "id": "1631a31e",
   "metadata": {},
   "outputs": [
    {
     "name": "stdout",
     "output_type": "stream",
     "text": [
      "# # #\n",
      "#\n",
      "# # #\n",
      "#\n",
      "#\n"
     ]
    }
   ],
   "source": [
    "x=1\n",
    "while x<=7:\n",
    "    if x==1  or x==3:\n",
    "        print(\"# # #\")\n",
    "    elif x==2 or x==4 or x==5:\n",
    "        print(\"#\")\n",
    "    x=x+1    "
   ]
  },
  {
   "cell_type": "code",
   "execution_count": 40,
   "id": "fdb13f07",
   "metadata": {},
   "outputs": [
    {
     "name": "stdout",
     "output_type": "stream",
     "text": [
      "######\n",
      "#\n",
      "#   ##\n",
      "#    #\n",
      "######\n"
     ]
    }
   ],
   "source": [
    "x=1\n",
    "while x<=5:\n",
    "    if x==1 or x==5:\n",
    "        print(\"######\")\n",
    "    elif x==2:  \n",
    "        print(\"#\")\n",
    "    elif x==3:\n",
    "        print(\"#   ##\")\n",
    "    else:\n",
    "        print(\"#    #\")\n",
    "    x=x+1    "
   ]
  },
  {
   "cell_type": "code",
   "execution_count": 52,
   "id": "7e3a1d5d",
   "metadata": {},
   "outputs": [
    {
     "name": "stdout",
     "output_type": "stream",
     "text": [
      "#   #\n",
      "#   #\n",
      "#####\n",
      "#   #\n",
      "#   #\n"
     ]
    }
   ],
   "source": [
    "x=1\n",
    "while x<=5:\n",
    "    if x==1 or  x==2 or x==4 or x==5:\n",
    "        print(\"#   #\")\n",
    "    elif x==3:\n",
    "        print(\"#####\")\n",
    "    x=x+1    "
   ]
  },
  {
   "cell_type": "code",
   "execution_count": 55,
   "id": "fa1896a5",
   "metadata": {},
   "outputs": [
    {
     "name": "stdout",
     "output_type": "stream",
     "text": [
      "#####\n",
      "  #\n",
      "  #\n",
      "  #\n",
      "#####\n"
     ]
    }
   ],
   "source": [
    "x=1\n",
    "while x<=5:\n",
    "    if x==1 or x==5:\n",
    "        print(\"#####\")\n",
    "    elif x==2 or x==3 or x==4:\n",
    "        print(\"  #\")\n",
    "    x=x+1   "
   ]
  },
  {
   "cell_type": "code",
   "execution_count": 64,
   "id": "d35fa8e7",
   "metadata": {},
   "outputs": [
    {
     "name": "stdout",
     "output_type": "stream",
     "text": [
      "########\n",
      "    #\n",
      "    #\n",
      "    #\n",
      " ####\n"
     ]
    }
   ],
   "source": [
    "x=1\n",
    "while x<=5:\n",
    "    if x==1:\n",
    "        print(\"########\")\n",
    "    elif x==2 or x==3 :\n",
    "        print(\"    #\")\n",
    "    else : \n",
    "        print(\" ####\")\n",
    "    x=x+1  "
   ]
  },
  {
   "cell_type": "code",
   "execution_count": 79,
   "id": "82c005bc",
   "metadata": {},
   "outputs": [
    {
     "name": "stdout",
     "output_type": "stream",
     "text": [
      "**    *\n",
      "**  *\n",
      "** *\n",
      "**  *\n",
      "**    *\n"
     ]
    }
   ],
   "source": [
    "x=1\n",
    "while x<=5:\n",
    "    if x==1 or x==5:\n",
    "        print(\"**    *\")\n",
    "    elif x==2  or x==4:\n",
    "        print(\"**  *\")\n",
    "    else : \n",
    "        print(\"** *\")\n",
    "    x=x+1  "
   ]
  },
  {
   "cell_type": "code",
   "execution_count": 83,
   "id": "970bd32d",
   "metadata": {},
   "outputs": [
    {
     "name": "stdout",
     "output_type": "stream",
     "text": [
      "#\n",
      "#\n",
      "#\n",
      "#\n",
      "#####\n"
     ]
    }
   ],
   "source": [
    "x=1\n",
    "while x<=5:\n",
    "    if x==5:\n",
    "        print(\"#####\")\n",
    "    elif  x==1 or x==2 or x==3 or x==4:\n",
    "        print(\"#\")\n",
    "    x=x+1   "
   ]
  },
  {
   "cell_type": "code",
   "execution_count": 138,
   "id": "196d7ccf",
   "metadata": {},
   "outputs": [
    {
     "name": "stdout",
     "output_type": "stream",
     "text": [
      "**     **\n",
      "** * * **\n",
      "**  *  **\n",
      "**     **\n",
      "**     **\n"
     ]
    }
   ],
   "source": [
    "x=1\n",
    "while x<=5:\n",
    "    if x==1 or x==4 or x==5:\n",
    "        print(\"**     **\")\n",
    "    elif x==2:\n",
    "        print(\"** * * **\")\n",
    "    else : \n",
    "        print(\"**  *  **\")\n",
    "    x=x+1  "
   ]
  },
  {
   "cell_type": "code",
   "execution_count": 133,
   "id": "01e6fa30",
   "metadata": {},
   "outputs": [
    {
     "name": "stdout",
     "output_type": "stream",
     "text": [
      "**     *\n",
      "*  *   *\n",
      "*   *  *\n",
      "*     **\n"
     ]
    }
   ],
   "source": [
    "x=1\n",
    "while x<=5:\n",
    "    if x==1:\n",
    "        print(\"**     *\")\n",
    "    elif x==2:\n",
    "        print(\"*  *   *\")\n",
    "    elif x==3: \n",
    "        print(\"*   *  *\")\n",
    "    elif x==4:\n",
    "        print(\"*     **\")\n",
    "    x=x+1  "
   ]
  },
  {
   "cell_type": "code",
   "execution_count": 145,
   "id": "060e043c",
   "metadata": {},
   "outputs": [
    {
     "name": "stdout",
     "output_type": "stream",
     "text": [
      "@ @@ @\n",
      "@    @\n",
      "@    @\n",
      "@    @\n",
      "@ @@ @\n"
     ]
    }
   ],
   "source": [
    "x=1\n",
    "while x<=5:\n",
    "    if x==1 or x==5:\n",
    "        print(\"@ @@ @\")\n",
    "    elif x==2 or x==3 or x==4:\n",
    "        print(\"@    @\")\n",
    "    x=x+1  "
   ]
  },
  {
   "cell_type": "code",
   "execution_count": 151,
   "id": "6f980b15",
   "metadata": {},
   "outputs": [
    {
     "name": "stdout",
     "output_type": "stream",
     "text": [
      "# # #\n",
      "#   #\n",
      "# # #\n",
      "#\n",
      "#\n"
     ]
    }
   ],
   "source": [
    "x=1\n",
    "while x<=5:\n",
    "    if x==1  or x==3:\n",
    "        print(\"# # #\")\n",
    "    elif x==4 or x==5:\n",
    "        print(\"#\")\n",
    "    else:\n",
    "        print(\"#   #\")\n",
    "    x=x+1    "
   ]
  },
  {
   "cell_type": "code",
   "execution_count": 179,
   "id": "a770f421",
   "metadata": {},
   "outputs": [
    {
     "name": "stdout",
     "output_type": "stream",
     "text": [
      "@@@@@@\n",
      "@    @\n",
      "@ @  @\n",
      "@   @@\n",
      "@@@@@@ @@\n"
     ]
    }
   ],
   "source": [
    "x=1\n",
    "while x<=5:\n",
    "    if x==1:\n",
    "        print(\"@@@@@@\")\n",
    "    \n",
    "    elif x==2:\n",
    "        print(\"@    @\")\n",
    "    elif x==3:\n",
    "        print(\"@ @  @\")\n",
    "    elif x==4:\n",
    "        print(\"@   @@\")\n",
    "    else :\n",
    "        print(\"@@@@@@ @@\")\n",
    "    x=x+1  "
   ]
  },
  {
   "cell_type": "code",
   "execution_count": 184,
   "id": "f6a68c24",
   "metadata": {},
   "outputs": [
    {
     "name": "stdout",
     "output_type": "stream",
     "text": [
      "# # #\n",
      "#    #\n",
      "# # #\n",
      "#   #\n",
      "#    #\n"
     ]
    }
   ],
   "source": [
    "x=1\n",
    "while x<=5:\n",
    "    if x==1  or x==3:\n",
    "        print(\"# # #\")\n",
    "    elif x==4 :\n",
    "        print(\"#   #\")\n",
    "    elif x==5:\n",
    "        print(\"#    #\")\n",
    "    else:\n",
    "        print(\"#    #\")\n",
    "    x=x+1    "
   ]
  },
  {
   "cell_type": "code",
   "execution_count": 183,
   "id": "82496c47",
   "metadata": {},
   "outputs": [
    {
     "name": "stdout",
     "output_type": "stream",
     "text": [
      "#####\n",
      "#\n",
      "#####\n",
      "    #\n",
      "#####\n"
     ]
    }
   ],
   "source": [
    "x=1\n",
    "while x<=5:\n",
    "    if x==1 or x==5 or x==3:\n",
    "        print(\"#####\")\n",
    "    elif x==2:\n",
    "        print(\"#\")\n",
    "    else:\n",
    "        print(\"    #\")\n",
    "    x=x+1    "
   ]
  },
  {
   "cell_type": "code",
   "execution_count": 185,
   "id": "533d2991",
   "metadata": {},
   "outputs": [
    {
     "name": "stdout",
     "output_type": "stream",
     "text": [
      "########\n",
      "   #\n",
      "   #\n",
      "   #\n",
      "   #\n"
     ]
    }
   ],
   "source": [
    "x=1\n",
    "while x<=5:\n",
    "    if x==1:\n",
    "        print(\"########\")\n",
    "    else :\n",
    "        print(\"   #\")\n",
    "    x=x+1  "
   ]
  },
  {
   "cell_type": "code",
   "execution_count": 186,
   "id": "449c487a",
   "metadata": {},
   "outputs": [
    {
     "name": "stdout",
     "output_type": "stream",
     "text": [
      "#   #\n",
      "#   #\n",
      "#   #\n",
      "#   #\n",
      "#####\n"
     ]
    }
   ],
   "source": [
    "x=1\n",
    "while x<=5:\n",
    "    if x==1 or  x==2 or x==3 or x==4:\n",
    "        print(\"#   #\")\n",
    "    elif x==5:\n",
    "        print(\"#####\")\n",
    "    x=x+1    "
   ]
  },
  {
   "cell_type": "code",
   "execution_count": 192,
   "id": "8e8498cd",
   "metadata": {},
   "outputs": [
    {
     "name": "stdout",
     "output_type": "stream",
     "text": [
      "*   *\n",
      " * *\n",
      "  *\n"
     ]
    }
   ],
   "source": [
    "x=1\n",
    "while x<=3:\n",
    "    if x==1:\n",
    "        print(\"*   *\")\n",
    "    elif x==2:\n",
    "        print(\" * *\")\n",
    "    else:\n",
    "        print(\"  *\")\n",
    "    x=x+1    "
   ]
  },
  {
   "cell_type": "code",
   "execution_count": 199,
   "id": "0ddc1a4a",
   "metadata": {},
   "outputs": [
    {
     "name": "stdout",
     "output_type": "stream",
     "text": [
      "*       *\n",
      " *  *  *\n",
      "  *   *\n"
     ]
    }
   ],
   "source": [
    "x=1\n",
    "while x<=3:\n",
    "    if x==1:\n",
    "        print(\"*       *\")\n",
    "    elif x==2:\n",
    "        print(\" *  *  *\")\n",
    "    else:\n",
    "        print(\"  *   *\")\n",
    "    x=x+1    "
   ]
  },
  {
   "cell_type": "code",
   "execution_count": 202,
   "id": "ce93b7b3",
   "metadata": {},
   "outputs": [
    {
     "name": "stdout",
     "output_type": "stream",
     "text": [
      "+       +\n",
      "  +   + \n",
      "    +  \n",
      "  +   + \n",
      "+       +\n"
     ]
    }
   ],
   "source": [
    "x=1\n",
    "while x<=5:\n",
    "    if x==1 or x==5:\n",
    "        print(\"+       +\")\n",
    "    elif x==2 or x==4 :\n",
    "        print(\"  +   + \")\n",
    "    else :\n",
    "        print(\"    +  \")\n",
    "    x=x+1"
   ]
  },
  {
   "cell_type": "code",
   "execution_count": 203,
   "id": "b7e6d38f",
   "metadata": {},
   "outputs": [
    {
     "name": "stdout",
     "output_type": "stream",
     "text": [
      "+       +\n",
      "  +   + \n",
      "    +  \n",
      "    +  \n",
      "    +  \n"
     ]
    }
   ],
   "source": [
    "x=1\n",
    "while x<=5:\n",
    "    if x==1:\n",
    "        print(\"+       +\")\n",
    "    elif x==2:\n",
    "        print(\"  +   + \")\n",
    "    else :\n",
    "        print(\"    +  \")\n",
    "    x=x+1"
   ]
  },
  {
   "cell_type": "code",
   "execution_count": 209,
   "id": "3fcd1045",
   "metadata": {},
   "outputs": [
    {
     "name": "stdout",
     "output_type": "stream",
     "text": [
      "+++++\n",
      "   * \n",
      " *  \n",
      "+++++\n"
     ]
    }
   ],
   "source": [
    "x=1\n",
    "while x<=5:\n",
    "    if x==1 or x==5:\n",
    "        print(\"+++++\")\n",
    "    elif x==2:\n",
    "        print(\"   * \")\n",
    "    elif x==3:\n",
    "        print(\" *  \")\n",
    "    x=x+1"
   ]
  },
  {
   "cell_type": "code",
   "execution_count": null,
   "id": "08407991",
   "metadata": {},
   "outputs": [],
   "source": []
  },
  {
   "cell_type": "code",
   "execution_count": null,
   "id": "85cbf752",
   "metadata": {},
   "outputs": [],
   "source": []
  }
 ],
 "metadata": {
  "kernelspec": {
   "display_name": "Python 3 (ipykernel)",
   "language": "python",
   "name": "python3"
  },
  "language_info": {
   "codemirror_mode": {
    "name": "ipython",
    "version": 3
   },
   "file_extension": ".py",
   "mimetype": "text/x-python",
   "name": "python",
   "nbconvert_exporter": "python",
   "pygments_lexer": "ipython3",
   "version": "3.11.3"
  }
 },
 "nbformat": 4,
 "nbformat_minor": 5
}
